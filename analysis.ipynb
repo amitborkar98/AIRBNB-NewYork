{
 "cells": [
  {
   "cell_type": "markdown",
   "metadata": {},
   "source": [
    "# New York AirBnB Data\n",
    "Using the NewYork data - useful facts about the data:\n",
    "\n",
    "Business Questions (Business Understanding)\n",
    "<b><li>What are the most common type of  properties in NewYork available for renting?What are the availabilities of the properties throughout the year?What property types have the highest availabilty?</li></b> \n",
    "\n",
    "<b><li>What is the average pricing of the properties available for renting?Are there any seasonal spiking in the prices of the properties?</li></b> \n",
    "\n",
    "<b><li>What streets have the highest and lowest property prices? \n",
    "Where to Invest a Property in NewYork to get maximum returns from Airbnb?</li></b> \n",
    "\n",
    "<b><li>How well can we predict the prices of the properties?What price can you get to rent your home,what factors determine the price of your home?</li></b> \n",
    "\n",
    "First, let's read in the necessary libraries and datasets."
   ]
  },
  {
   "cell_type": "code",
   "execution_count": 1,
   "metadata": {},
   "outputs": [],
   "source": [
    "import pandas as pd\n",
    "import numpy as np\n",
    "import matplotlib.pyplot as plt\n",
    "import seaborn as sns\n",
    "%matplotlib inline"
   ]
  },
  {
   "cell_type": "code",
   "execution_count": 14,
   "metadata": {},
   "outputs": [],
   "source": [
    "listings = pd.read_csv('listings.csv')\n",
    "calendar = pd.read_csv('calendar.csv')"
   ]
  },
  {
   "cell_type": "markdown",
   "metadata": {},
   "source": [
    "Little data wrangling and cleaning here, to prepare the data for analysis "
   ]
  },
  {
   "cell_type": "code",
   "execution_count": 15,
   "metadata": {},
   "outputs": [],
   "source": [
    "#droping columns which are not usefull in  analysing the respective questions.\n",
    "listings = listings.drop(['transit', 'neighborhood_overview', 'listing_url', 'summary', 'space', 'description', \n",
    "                          'access', 'interaction', 'house_rules', 'thumbnail_url','medium_url','picture_url', \n",
    "                          'xl_picture_url', 'host_url', 'host_name', 'host_about', 'host_thumbnail_url', 'host_verifications',\n",
    "                          'calendar_updated'], axis = 1)"
   ]
  },
  {
   "cell_type": "code",
   "execution_count": 16,
   "metadata": {},
   "outputs": [],
   "source": [
    "#removing columns which has only one value as that column would be not usefull for analysis \n",
    "for col in listings:\n",
    "    if listings[col].value_counts().count() <= 1:\n",
    "        listings = listings.drop(col, axis = 1)"
   ]
  },
  {
   "cell_type": "code",
   "execution_count": 17,
   "metadata": {},
   "outputs": [],
   "source": [
    "#dropping the columns which have 60% of its values missing\n",
    "for col in listings:\n",
    "        percentage = listings[col].isna().sum() / listings.shape[0] * 100\n",
    "        if percentage > 60:\n",
    "            listings = listings.drop(col, axis = 1)"
   ]
  },
  {
   "cell_type": "code",
   "execution_count": 18,
   "metadata": {},
   "outputs": [],
   "source": [
    "#Replacing Nan values with 0\n",
    "listings.fillna(0, inplace = True)\n",
    "calendar.fillna(0, inplace = True)"
   ]
  },
  {
   "cell_type": "code",
   "execution_count": 19,
   "metadata": {},
   "outputs": [
    {
     "data": {
      "text/plain": [
       "dtype('O')"
      ]
     },
     "execution_count": 19,
     "metadata": {},
     "output_type": "execute_result"
    }
   ],
   "source": [
    "listings.price.dtype"
   ]
  },
  {
   "cell_type": "code",
   "execution_count": 20,
   "metadata": {},
   "outputs": [
    {
     "data": {
      "text/plain": [
       "dtype('O')"
      ]
     },
     "execution_count": 20,
     "metadata": {},
     "output_type": "execute_result"
    }
   ],
   "source": [
    "calendar.price.dtype"
   ]
  },
  {
   "cell_type": "code",
   "execution_count": 21,
   "metadata": {},
   "outputs": [],
   "source": [
    "#converting price into float\n",
    "listings['price'] = listings['price'].apply(lambda x: float(str(x).replace('$', '').replace(',', '')))\n",
    "calendar['price'] = calendar['price'].apply(lambda x: float(str(x).replace('$', '').replace(',', '')))"
   ]
  },
  {
   "cell_type": "code",
   "execution_count": 22,
   "metadata": {},
   "outputs": [
    {
     "data": {
      "text/plain": [
       "0    2019-09-13\n",
       "1    2019-09-13\n",
       "2    2019-09-14\n",
       "3    2019-09-15\n",
       "4    2019-09-16\n",
       "Name: date, dtype: object"
      ]
     },
     "execution_count": 22,
     "metadata": {},
     "output_type": "execute_result"
    }
   ],
   "source": [
    "calendar['date'].head()"
   ]
  },
  {
   "cell_type": "code",
   "execution_count": 23,
   "metadata": {},
   "outputs": [
    {
     "data": {
      "text/html": [
       "<div>\n",
       "<style scoped>\n",
       "    .dataframe tbody tr th:only-of-type {\n",
       "        vertical-align: middle;\n",
       "    }\n",
       "\n",
       "    .dataframe tbody tr th {\n",
       "        vertical-align: top;\n",
       "    }\n",
       "\n",
       "    .dataframe thead th {\n",
       "        text-align: right;\n",
       "    }\n",
       "</style>\n",
       "<table border=\"1\" class=\"dataframe\">\n",
       "  <thead>\n",
       "    <tr style=\"text-align: right;\">\n",
       "      <th></th>\n",
       "      <th>listing_id</th>\n",
       "      <th>date</th>\n",
       "      <th>available</th>\n",
       "      <th>price</th>\n",
       "      <th>adjusted_price</th>\n",
       "      <th>minimum_nights</th>\n",
       "      <th>maximum_nights</th>\n",
       "      <th>Year-Month</th>\n",
       "    </tr>\n",
       "  </thead>\n",
       "  <tbody>\n",
       "    <tr>\n",
       "      <td>0</td>\n",
       "      <td>9668</td>\n",
       "      <td>2019-09-13</td>\n",
       "      <td>f</td>\n",
       "      <td>51.0</td>\n",
       "      <td>$51.00</td>\n",
       "      <td>3.0</td>\n",
       "      <td>365.0</td>\n",
       "      <td>2019-09</td>\n",
       "    </tr>\n",
       "    <tr>\n",
       "      <td>1</td>\n",
       "      <td>26969</td>\n",
       "      <td>2019-09-13</td>\n",
       "      <td>f</td>\n",
       "      <td>350.0</td>\n",
       "      <td>$350.00</td>\n",
       "      <td>3.0</td>\n",
       "      <td>33.0</td>\n",
       "      <td>2019-09</td>\n",
       "    </tr>\n",
       "    <tr>\n",
       "      <td>2</td>\n",
       "      <td>26969</td>\n",
       "      <td>2019-09-14</td>\n",
       "      <td>f</td>\n",
       "      <td>350.0</td>\n",
       "      <td>$350.00</td>\n",
       "      <td>3.0</td>\n",
       "      <td>33.0</td>\n",
       "      <td>2019-09</td>\n",
       "    </tr>\n",
       "    <tr>\n",
       "      <td>3</td>\n",
       "      <td>26969</td>\n",
       "      <td>2019-09-15</td>\n",
       "      <td>f</td>\n",
       "      <td>350.0</td>\n",
       "      <td>$350.00</td>\n",
       "      <td>3.0</td>\n",
       "      <td>33.0</td>\n",
       "      <td>2019-09</td>\n",
       "    </tr>\n",
       "    <tr>\n",
       "      <td>4</td>\n",
       "      <td>26969</td>\n",
       "      <td>2019-09-16</td>\n",
       "      <td>f</td>\n",
       "      <td>350.0</td>\n",
       "      <td>$350.00</td>\n",
       "      <td>3.0</td>\n",
       "      <td>33.0</td>\n",
       "      <td>2019-09</td>\n",
       "    </tr>\n",
       "  </tbody>\n",
       "</table>\n",
       "</div>"
      ],
      "text/plain": [
       "   listing_id        date available  price adjusted_price  minimum_nights  \\\n",
       "0        9668  2019-09-13         f   51.0         $51.00             3.0   \n",
       "1       26969  2019-09-13         f  350.0        $350.00             3.0   \n",
       "2       26969  2019-09-14         f  350.0        $350.00             3.0   \n",
       "3       26969  2019-09-15         f  350.0        $350.00             3.0   \n",
       "4       26969  2019-09-16         f  350.0        $350.00             3.0   \n",
       "\n",
       "   maximum_nights Year-Month  \n",
       "0           365.0    2019-09  \n",
       "1            33.0    2019-09  \n",
       "2            33.0    2019-09  \n",
       "3            33.0    2019-09  \n",
       "4            33.0    2019-09  "
      ]
     },
     "execution_count": 23,
     "metadata": {},
     "output_type": "execute_result"
    }
   ],
   "source": [
    "#adding a new column Year-Month to do the monthly analysis of the data\n",
    "calendar['Year-Month'] = calendar['date'].apply(lambda x:(str(x).replace(x, x[0:7])))\n",
    "calendar.head()"
   ]
  },
  {
   "cell_type": "code",
   "execution_count": 24,
   "metadata": {},
   "outputs": [
    {
     "data": {
      "text/plain": [
       "dtype('O')"
      ]
     },
     "execution_count": 24,
     "metadata": {},
     "output_type": "execute_result"
    }
   ],
   "source": [
    "calendar.available.dtype"
   ]
  },
  {
   "cell_type": "code",
   "execution_count": 25,
   "metadata": {},
   "outputs": [
    {
     "data": {
      "text/html": [
       "<div>\n",
       "<style scoped>\n",
       "    .dataframe tbody tr th:only-of-type {\n",
       "        vertical-align: middle;\n",
       "    }\n",
       "\n",
       "    .dataframe tbody tr th {\n",
       "        vertical-align: top;\n",
       "    }\n",
       "\n",
       "    .dataframe thead th {\n",
       "        text-align: right;\n",
       "    }\n",
       "</style>\n",
       "<table border=\"1\" class=\"dataframe\">\n",
       "  <thead>\n",
       "    <tr style=\"text-align: right;\">\n",
       "      <th></th>\n",
       "      <th>listing_id</th>\n",
       "      <th>date</th>\n",
       "      <th>available</th>\n",
       "      <th>price</th>\n",
       "      <th>adjusted_price</th>\n",
       "      <th>minimum_nights</th>\n",
       "      <th>maximum_nights</th>\n",
       "      <th>Year-Month</th>\n",
       "    </tr>\n",
       "  </thead>\n",
       "  <tbody>\n",
       "    <tr>\n",
       "      <td>0</td>\n",
       "      <td>9668</td>\n",
       "      <td>2019-09-13</td>\n",
       "      <td>False</td>\n",
       "      <td>51.0</td>\n",
       "      <td>$51.00</td>\n",
       "      <td>3.0</td>\n",
       "      <td>365.0</td>\n",
       "      <td>2019-09</td>\n",
       "    </tr>\n",
       "    <tr>\n",
       "      <td>1</td>\n",
       "      <td>26969</td>\n",
       "      <td>2019-09-13</td>\n",
       "      <td>False</td>\n",
       "      <td>350.0</td>\n",
       "      <td>$350.00</td>\n",
       "      <td>3.0</td>\n",
       "      <td>33.0</td>\n",
       "      <td>2019-09</td>\n",
       "    </tr>\n",
       "    <tr>\n",
       "      <td>2</td>\n",
       "      <td>26969</td>\n",
       "      <td>2019-09-14</td>\n",
       "      <td>False</td>\n",
       "      <td>350.0</td>\n",
       "      <td>$350.00</td>\n",
       "      <td>3.0</td>\n",
       "      <td>33.0</td>\n",
       "      <td>2019-09</td>\n",
       "    </tr>\n",
       "    <tr>\n",
       "      <td>3</td>\n",
       "      <td>26969</td>\n",
       "      <td>2019-09-15</td>\n",
       "      <td>False</td>\n",
       "      <td>350.0</td>\n",
       "      <td>$350.00</td>\n",
       "      <td>3.0</td>\n",
       "      <td>33.0</td>\n",
       "      <td>2019-09</td>\n",
       "    </tr>\n",
       "    <tr>\n",
       "      <td>4</td>\n",
       "      <td>26969</td>\n",
       "      <td>2019-09-16</td>\n",
       "      <td>False</td>\n",
       "      <td>350.0</td>\n",
       "      <td>$350.00</td>\n",
       "      <td>3.0</td>\n",
       "      <td>33.0</td>\n",
       "      <td>2019-09</td>\n",
       "    </tr>\n",
       "  </tbody>\n",
       "</table>\n",
       "</div>"
      ],
      "text/plain": [
       "   listing_id        date  available  price adjusted_price  minimum_nights  \\\n",
       "0        9668  2019-09-13      False   51.0         $51.00             3.0   \n",
       "1       26969  2019-09-13      False  350.0        $350.00             3.0   \n",
       "2       26969  2019-09-14      False  350.0        $350.00             3.0   \n",
       "3       26969  2019-09-15      False  350.0        $350.00             3.0   \n",
       "4       26969  2019-09-16      False  350.0        $350.00             3.0   \n",
       "\n",
       "   maximum_nights Year-Month  \n",
       "0           365.0    2019-09  \n",
       "1            33.0    2019-09  \n",
       "2            33.0    2019-09  \n",
       "3            33.0    2019-09  \n",
       "4            33.0    2019-09  "
      ]
     },
     "execution_count": 25,
     "metadata": {},
     "output_type": "execute_result"
    }
   ],
   "source": [
    "#converting the column \"available\" into boolean for performing operations\n",
    "calendar.available.replace('f', False, inplace = True)\n",
    "calendar.available.replace('t', True, inplace = True)\n",
    "calendar.head()"
   ]
  },
  {
   "cell_type": "markdown",
   "metadata": {},
   "source": [
    "<b>1) What are the most common type of properties in NewYork available for renting?What are the availabilities of the properties throughout the year?What property types have the highest availabilty?</b>"
   ]
  },
  {
   "cell_type": "code",
   "execution_count": 35,
   "metadata": {},
   "outputs": [
    {
     "data": {
      "text/html": [
       "<div>\n",
       "<style scoped>\n",
       "    .dataframe tbody tr th:only-of-type {\n",
       "        vertical-align: middle;\n",
       "    }\n",
       "\n",
       "    .dataframe tbody tr th {\n",
       "        vertical-align: top;\n",
       "    }\n",
       "\n",
       "    .dataframe thead th {\n",
       "        text-align: right;\n",
       "    }\n",
       "</style>\n",
       "<table border=\"1\" class=\"dataframe\">\n",
       "  <thead>\n",
       "    <tr style=\"text-align: right;\">\n",
       "      <th></th>\n",
       "      <th>property_type</th>\n",
       "      <th>id</th>\n",
       "    </tr>\n",
       "  </thead>\n",
       "  <tbody>\n",
       "    <tr>\n",
       "      <td>1</td>\n",
       "      <td>Apartment</td>\n",
       "      <td>38144</td>\n",
       "    </tr>\n",
       "    <tr>\n",
       "      <td>22</td>\n",
       "      <td>House</td>\n",
       "      <td>3944</td>\n",
       "    </tr>\n",
       "    <tr>\n",
       "      <td>33</td>\n",
       "      <td>Townhouse</td>\n",
       "      <td>1624</td>\n",
       "    </tr>\n",
       "    <tr>\n",
       "      <td>13</td>\n",
       "      <td>Condominium</td>\n",
       "      <td>1512</td>\n",
       "    </tr>\n",
       "    <tr>\n",
       "      <td>25</td>\n",
       "      <td>Loft</td>\n",
       "      <td>1375</td>\n",
       "    </tr>\n",
       "    <tr>\n",
       "      <td>29</td>\n",
       "      <td>Serviced apartment</td>\n",
       "      <td>437</td>\n",
       "    </tr>\n",
       "    <tr>\n",
       "      <td>18</td>\n",
       "      <td>Guest suite</td>\n",
       "      <td>382</td>\n",
       "    </tr>\n",
       "    <tr>\n",
       "      <td>21</td>\n",
       "      <td>Hotel</td>\n",
       "      <td>219</td>\n",
       "    </tr>\n",
       "    <tr>\n",
       "      <td>5</td>\n",
       "      <td>Boutique hotel</td>\n",
       "      <td>214</td>\n",
       "    </tr>\n",
       "  </tbody>\n",
       "</table>\n",
       "</div>"
      ],
      "text/plain": [
       "         property_type     id\n",
       "1            Apartment  38144\n",
       "22               House   3944\n",
       "33           Townhouse   1624\n",
       "13         Condominium   1512\n",
       "25                Loft   1375\n",
       "29  Serviced apartment    437\n",
       "18         Guest suite    382\n",
       "21               Hotel    219\n",
       "5       Boutique hotel    214"
      ]
     },
     "execution_count": 35,
     "metadata": {},
     "output_type": "execute_result"
    }
   ],
   "source": [
    "#grouping property types by their id count and sorting them according in descing order\n",
    "common_properties=listings.groupby(['property_type']).count()['id'].reset_index().sort_values(ascending=False, by='id').head(9)\n",
    "common_properties"
   ]
  },
  {
   "cell_type": "code",
   "execution_count": 49,
   "metadata": {},
   "outputs": [
    {
     "data": {
      "image/png": "[encoded data removed]",
      "text/plain": [
       "<Figure size 864x576 with 1 Axes>"
      ]
     },
     "metadata": {},
     "output_type": "display_data"
    }
   ],
   "source": [
    "#plotting the data of the table above\n",
    "plt.style.use('ggplot');\n",
    "\n",
    "common_properties.plot(kind='bar', \n",
    "           x='property_type',\n",
    "           y='id',\n",
    "           color = '#66c2ff', \n",
    "           figsize =(12,8), \n",
    "           title = \"NewYork's Most Common Properties for Renting\", \n",
    "           legend = False);\n",
    "plt.xlabel('Property Types')\n",
    "plt.ylabel('Number Of Listings');"
   ]
  },
  {
   "cell_type": "markdown",
   "metadata": {},
   "source": [
    "It can be concluded that property type also plays an important factor. Not surprisingly, Apartment and houses take up an overwhelming majority of all listings, followed by townhouse and Condominium."
   ]
  },
  {
   "cell_type": "code",
   "execution_count": null,
   "metadata": {},
   "outputs": [],
   "source": []
  },
  {
   "cell_type": "code",
   "execution_count": null,
   "metadata": {},
   "outputs": [],
   "source": []
  },
  {
   "cell_type": "code",
   "execution_count": null,
   "metadata": {},
   "outputs": [],
   "source": []
  },
  {
   "cell_type": "code",
   "execution_count": null,
   "metadata": {},
   "outputs": [],
   "source": []
  },
  {
   "cell_type": "code",
   "execution_count": null,
   "metadata": {},
   "outputs": [],
   "source": []
  }
 ],
 "metadata": {
  "kernelspec": {
   "display_name": "Python 3",
   "language": "python",
   "name": "python3"
  },
  "language_info": {
   "codemirror_mode": {
    "name": "ipython",
    "version": 3
   },
   "file_extension": ".py",
   "mimetype": "text/x-python",
   "name": "python",
   "nbconvert_exporter": "python",
   "pygments_lexer": "ipython3",
   "version": "3.7.4"
  }
 },
 "nbformat": 4,
 "nbformat_minor": 2
}
