{
 "cells": [
  {
   "cell_type": "markdown",
   "metadata": {},
   "source": [
    "# New York AirBnB Data\n",
    "Using the NewYork data - useful facts about the data:\n",
    "\n",
    "Business Questions (Business Understanding)\n",
    "<b><li>What are the most common type of  properties in NewYork available for renting?What are the availabilities of the properties throughout the year?What property types have the highest availabilty?</li></b> \n",
    "\n",
    "<b><li>What is the average pricing of the properties available for renting?Are there any seasonal spiking in the prices of the properties?</li></b> \n",
    "\n",
    "<b><li>What streets have the highest and lowest property prices? \n",
    "Where to Invest a Property in NewYork to get maximum returns from Airbnb?</li></b> \n",
    "\n",
    "<b><li>How well can we predict the prices of the properties?What price can you get to rent your home,what factors determine the price of your home?</li></b> \n",
    "\n",
    "First, let's read in the necessary libraries and datasets."
   ]
  },
  {
   "cell_type": "code",
   "execution_count": null,
   "metadata": {},
   "outputs": [],
   "source": [
    "import pandas as pd\n",
    "import numpy as np\n",
    "import matplotlib.pyplot as plt\n",
    "import seaborn as sns\n",
    "%matplotlib inline"
   ]
  },
  {
   "cell_type": "code",
   "execution_count": null,
   "metadata": {},
   "outputs": [],
   "source": [
    "listings = pd.read_csv('listings.csv')\n",
    "calendar = pd.read_csv('calendar.csv')"
   ]
  },
  {
   "cell_type": "markdown",
   "metadata": {},
   "source": [
    "Little data wrangling and cleaning here, to prepare the data for analysis "
   ]
  },
  {
   "cell_type": "code",
   "execution_count": null,
   "metadata": {},
   "outputs": [],
   "source": [
    "#droping columns which are not usefull in  analysing the respective questions.\n",
    "listings = listings.drop(['transit', 'neighborhood_overview', 'listing_url', 'summary', 'space', 'description', \n",
    "                          'access', 'interaction', 'house_rules', 'thumbnail_url','medium_url','picture_url', \n",
    "                          'xl_picture_url', 'host_url', 'host_name', 'host_about', 'host_thumbnail_url', 'host_verifications',\n",
    "                          'calendar_updated'], axis = 1)"
   ]
  },
  {
   "cell_type": "code",
   "execution_count": null,
   "metadata": {},
   "outputs": [],
   "source": [
    "#removing columns which has only one value as that column would be not usefull for analysis \n",
    "for col in listings:\n",
    "    if listings[col].value_counts().count() <= 1:\n",
    "        listings = listings.drop(col, axis = 1)"
   ]
  },
  {
   "cell_type": "code",
   "execution_count": null,
   "metadata": {},
   "outputs": [],
   "source": [
    "#dropping the columns which have 60% of its values missing\n",
    "for col in listings:\n",
    "        percentage = listings[col].isna().sum() / listings.shape[0] * 100\n",
    "        if percentage > 60:\n",
    "            listings = listings.drop(col, axis = 1)"
   ]
  },
  {
   "cell_type": "code",
   "execution_count": null,
   "metadata": {},
   "outputs": [],
   "source": [
    "#Replacing Nan values with 0\n",
    "listings.fillna(0, inplace = True)\n",
    "calendar.fillna(0, inplace = True)"
   ]
  },
  {
   "cell_type": "code",
   "execution_count": null,
   "metadata": {},
   "outputs": [],
   "source": [
    "listings.price.dtype"
   ]
  },
  {
   "cell_type": "code",
   "execution_count": null,
   "metadata": {},
   "outputs": [],
   "source": [
    "calendar.price.dtype"
   ]
  },
  {
   "cell_type": "code",
   "execution_count": null,
   "metadata": {},
   "outputs": [],
   "source": [
    "#converting price into float\n",
    "listings['price'] = listings['price'].apply(lambda x: float(str(x).replace('$', '').replace(',', '')))\n",
    "calendar['price'] = calendar['price'].apply(lambda x: float(str(x).replace('$', '').replace(',', '')))"
   ]
  },
  {
   "cell_type": "code",
   "execution_count": null,
   "metadata": {},
   "outputs": [],
   "source": [
    "calendar['date'].head()"
   ]
  },
  {
   "cell_type": "code",
   "execution_count": null,
   "metadata": {},
   "outputs": [],
   "source": [
    "#adding a new column Year-Month to do the monthly analysis of the data\n",
    "calendar['Year-Month'] = calendar['date'].apply(lambda x:(str(x).replace(x,x[0:7])))\n",
    "calendar.head()"
   ]
  },
  {
   "cell_type": "code",
   "execution_count": null,
   "metadata": {},
   "outputs": [],
   "source": [
    "calendar.available.dtype"
   ]
  },
  {
   "cell_type": "code",
   "execution_count": null,
   "metadata": {},
   "outputs": [],
   "source": [
    "#converting the column \"available\" into boolean for performing operations\n",
    "calendar.available.replace('f', False, inplace = True)\n",
    "calendar.available.replace('t', True, inplace = True)\n",
    "calendar.head()"
   ]
  },
  {
   "cell_type": "markdown",
   "metadata": {},
   "source": [
    "<b>1) What are the most common type of properties in NewYork available for renting?What are the availabilities of the properties throughout the year?What property types have the highest availabilty?</b>"
   ]
  },
  {
   "cell_type": "code",
   "execution_count": null,
   "metadata": {},
   "outputs": [],
   "source": []
  }
 ],
 "metadata": {
  "kernelspec": {
   "display_name": "Python 3",
   "language": "python",
   "name": "python3"
  },
  "language_info": {
   "codemirror_mode": {
    "name": "ipython",
    "version": 3
   },
   "file_extension": ".py",
   "mimetype": "text/x-python",
   "name": "python",
   "nbconvert_exporter": "python",
   "pygments_lexer": "ipython3",
   "version": "3.7.4"
  }
 },
 "nbformat": 4,
 "nbformat_minor": 2
}
