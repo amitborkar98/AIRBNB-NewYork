{
 "cells": [
  {
   "cell_type": "markdown",
   "metadata": {},
   "source": [
    "# New York AirBnB Data\n",
    "Using the NewYork data - useful facts about the data:\n",
    "\n",
    "Business Questions (Business Understanding)\n",
    "<b><li>What are the most common type of  properties in NewYork available for renting?What are the availabilities of the properties throughout the year?</li></b> \n",
    "\n",
    "<b><li>What is the average pricing of the properties available for renting?Are there any seasonal spiking in the prices of the properties?</li></b> \n",
    "\n",
    "<b><li>What streets have the highest and lowest property prices? \n",
    "Where to Invest a Property in NewYork to get maximum returns from Airbnb?</li></b> \n",
    "\n",
    "<b><li>Can we use some of the features in the listing data to predict property prices?What the most important factors affecting the price of the properties?</li></b> \n",
    "\n",
    "First, let's read in the necessary libraries and datasets."
   ]
  },
  {
   "cell_type": "code",
   "execution_count": 1,
   "metadata": {},
   "outputs": [],
   "source": [
    "import pandas as pd\n",
    "import numpy as np\n",
    "import matplotlib.pyplot as plt\n",
    "from sklearn.model_selection import train_test_split\n",
    "from sklearn.metrics import mean_absolute_error,median_absolute_error, r2_score,mean_squared_error\n",
    "from sklearn.tree import DecisionTreeRegressor \n",
    "from sklearn.ensemble import AdaBoostRegressor\n",
    "from sklearn import preprocessing\n",
    "%matplotlib inline"
   ]
  },
  {
   "cell_type": "code",
   "execution_count": 2,
   "metadata": {},
   "outputs": [
    {
     "name": "stderr",
     "output_type": "stream",
     "text": [
      "C:\\Users\\DELL\\Anaconda3\\lib\\site-packages\\IPython\\core\\interactiveshell.py:3058: DtypeWarning: Columns (61,62,94,95) have mixed types. Specify dtype option on import or set low_memory=False.\n",
      "  interactivity=interactivity, compiler=compiler, result=result)\n"
     ]
    }
   ],
   "source": [
    "listings = pd.read_csv('listings.csv')\n",
    "calendar = pd.read_csv('calendar.csv')"
   ]
  },
  {
   "cell_type": "markdown",
   "metadata": {},
   "source": [
    "Little data wrangling and cleaning here, to prepare the data for analysis "
   ]
  },
  {
   "cell_type": "code",
   "execution_count": 3,
   "metadata": {},
   "outputs": [
    {
     "data": {
      "text/html": [
       "<div>\n",
       "<style scoped>\n",
       "    .dataframe tbody tr th:only-of-type {\n",
       "        vertical-align: middle;\n",
       "    }\n",
       "\n",
       "    .dataframe tbody tr th {\n",
       "        vertical-align: top;\n",
       "    }\n",
       "\n",
       "    .dataframe thead th {\n",
       "        text-align: right;\n",
       "    }\n",
       "</style>\n",
       "<table border=\"1\" class=\"dataframe\">\n",
       "  <thead>\n",
       "    <tr style=\"text-align: right;\">\n",
       "      <th></th>\n",
       "      <th>id</th>\n",
       "      <th>listing_url</th>\n",
       "      <th>scrape_id</th>\n",
       "      <th>last_scraped</th>\n",
       "      <th>name</th>\n",
       "      <th>summary</th>\n",
       "      <th>space</th>\n",
       "      <th>description</th>\n",
       "      <th>experiences_offered</th>\n",
       "      <th>neighborhood_overview</th>\n",
       "      <th>...</th>\n",
       "      <th>instant_bookable</th>\n",
       "      <th>is_business_travel_ready</th>\n",
       "      <th>cancellation_policy</th>\n",
       "      <th>require_guest_profile_picture</th>\n",
       "      <th>require_guest_phone_verification</th>\n",
       "      <th>calculated_host_listings_count</th>\n",
       "      <th>calculated_host_listings_count_entire_homes</th>\n",
       "      <th>calculated_host_listings_count_private_rooms</th>\n",
       "      <th>calculated_host_listings_count_shared_rooms</th>\n",
       "      <th>reviews_per_month</th>\n",
       "    </tr>\n",
       "  </thead>\n",
       "  <tbody>\n",
       "    <tr>\n",
       "      <td>0</td>\n",
       "      <td>3647</td>\n",
       "      <td>https://www.airbnb.com/rooms/3647</td>\n",
       "      <td>20190912153101</td>\n",
       "      <td>2019-09-13</td>\n",
       "      <td>THE VILLAGE OF HARLEM....NEW YORK !</td>\n",
       "      <td>NaN</td>\n",
       "      <td>WELCOME TO OUR INTERNATIONAL URBAN COMMUNITY T...</td>\n",
       "      <td>WELCOME TO OUR INTERNATIONAL URBAN COMMUNITY T...</td>\n",
       "      <td>none</td>\n",
       "      <td>NaN</td>\n",
       "      <td>...</td>\n",
       "      <td>f</td>\n",
       "      <td>f</td>\n",
       "      <td>strict_14_with_grace_period</td>\n",
       "      <td>t</td>\n",
       "      <td>t</td>\n",
       "      <td>1</td>\n",
       "      <td>0</td>\n",
       "      <td>1</td>\n",
       "      <td>0</td>\n",
       "      <td>NaN</td>\n",
       "    </tr>\n",
       "    <tr>\n",
       "      <td>1</td>\n",
       "      <td>3831</td>\n",
       "      <td>https://www.airbnb.com/rooms/3831</td>\n",
       "      <td>20190912153101</td>\n",
       "      <td>2019-09-13</td>\n",
       "      <td>Cozy Entire Floor of Brownstone</td>\n",
       "      <td>Urban retreat: enjoy 500 s.f. floor in 1899 br...</td>\n",
       "      <td>Greetings!      We own a double-duplex brownst...</td>\n",
       "      <td>Urban retreat: enjoy 500 s.f. floor in 1899 br...</td>\n",
       "      <td>none</td>\n",
       "      <td>Just the right mix of urban center and local n...</td>\n",
       "      <td>...</td>\n",
       "      <td>f</td>\n",
       "      <td>f</td>\n",
       "      <td>moderate</td>\n",
       "      <td>f</td>\n",
       "      <td>f</td>\n",
       "      <td>1</td>\n",
       "      <td>1</td>\n",
       "      <td>0</td>\n",
       "      <td>0</td>\n",
       "      <td>4.62</td>\n",
       "    </tr>\n",
       "    <tr>\n",
       "      <td>2</td>\n",
       "      <td>5022</td>\n",
       "      <td>https://www.airbnb.com/rooms/5022</td>\n",
       "      <td>20190912153101</td>\n",
       "      <td>2019-09-13</td>\n",
       "      <td>Entire Apt: Spacious Studio/Loft by central park</td>\n",
       "      <td>NaN</td>\n",
       "      <td>Loft apartment with high ceiling and wood floo...</td>\n",
       "      <td>Loft apartment with high ceiling and wood floo...</td>\n",
       "      <td>none</td>\n",
       "      <td>NaN</td>\n",
       "      <td>...</td>\n",
       "      <td>f</td>\n",
       "      <td>f</td>\n",
       "      <td>strict_14_with_grace_period</td>\n",
       "      <td>t</td>\n",
       "      <td>t</td>\n",
       "      <td>1</td>\n",
       "      <td>1</td>\n",
       "      <td>0</td>\n",
       "      <td>0</td>\n",
       "      <td>0.10</td>\n",
       "    </tr>\n",
       "    <tr>\n",
       "      <td>3</td>\n",
       "      <td>5099</td>\n",
       "      <td>https://www.airbnb.com/rooms/5099</td>\n",
       "      <td>20190912153101</td>\n",
       "      <td>2019-09-13</td>\n",
       "      <td>Large Cozy 1 BR Apartment In Midtown East</td>\n",
       "      <td>My large 1 bedroom apartment has a true New Yo...</td>\n",
       "      <td>I have a large 1 bedroom apartment centrally l...</td>\n",
       "      <td>My large 1 bedroom apartment has a true New Yo...</td>\n",
       "      <td>none</td>\n",
       "      <td>My neighborhood in Midtown East is called Murr...</td>\n",
       "      <td>...</td>\n",
       "      <td>f</td>\n",
       "      <td>f</td>\n",
       "      <td>moderate</td>\n",
       "      <td>t</td>\n",
       "      <td>t</td>\n",
       "      <td>1</td>\n",
       "      <td>1</td>\n",
       "      <td>0</td>\n",
       "      <td>0</td>\n",
       "      <td>0.59</td>\n",
       "    </tr>\n",
       "    <tr>\n",
       "      <td>4</td>\n",
       "      <td>5121</td>\n",
       "      <td>https://www.airbnb.com/rooms/5121</td>\n",
       "      <td>20190912153101</td>\n",
       "      <td>2019-09-13</td>\n",
       "      <td>BlissArtsSpace!</td>\n",
       "      <td>NaN</td>\n",
       "      <td>HELLO EVERYONE AND THANKS FOR VISITING BLISS A...</td>\n",
       "      <td>HELLO EVERYONE AND THANKS FOR VISITING BLISS A...</td>\n",
       "      <td>none</td>\n",
       "      <td>NaN</td>\n",
       "      <td>...</td>\n",
       "      <td>f</td>\n",
       "      <td>f</td>\n",
       "      <td>strict_14_with_grace_period</td>\n",
       "      <td>f</td>\n",
       "      <td>f</td>\n",
       "      <td>1</td>\n",
       "      <td>0</td>\n",
       "      <td>1</td>\n",
       "      <td>0</td>\n",
       "      <td>0.39</td>\n",
       "    </tr>\n",
       "  </tbody>\n",
       "</table>\n",
       "<p>5 rows × 106 columns</p>\n",
       "</div>"
      ],
      "text/plain": [
       "     id                        listing_url       scrape_id last_scraped  \\\n",
       "0  3647  https://www.airbnb.com/rooms/3647  20190912153101   2019-09-13   \n",
       "1  3831  https://www.airbnb.com/rooms/3831  20190912153101   2019-09-13   \n",
       "2  5022  https://www.airbnb.com/rooms/5022  20190912153101   2019-09-13   \n",
       "3  5099  https://www.airbnb.com/rooms/5099  20190912153101   2019-09-13   \n",
       "4  5121  https://www.airbnb.com/rooms/5121  20190912153101   2019-09-13   \n",
       "\n",
       "                                               name  \\\n",
       "0               THE VILLAGE OF HARLEM....NEW YORK !   \n",
       "1                   Cozy Entire Floor of Brownstone   \n",
       "2  Entire Apt: Spacious Studio/Loft by central park   \n",
       "3         Large Cozy 1 BR Apartment In Midtown East   \n",
       "4                                   BlissArtsSpace!   \n",
       "\n",
       "                                             summary  \\\n",
       "0                                                NaN   \n",
       "1  Urban retreat: enjoy 500 s.f. floor in 1899 br...   \n",
       "2                                                NaN   \n",
       "3  My large 1 bedroom apartment has a true New Yo...   \n",
       "4                                                NaN   \n",
       "\n",
       "                                               space  \\\n",
       "0  WELCOME TO OUR INTERNATIONAL URBAN COMMUNITY T...   \n",
       "1  Greetings!      We own a double-duplex brownst...   \n",
       "2  Loft apartment with high ceiling and wood floo...   \n",
       "3  I have a large 1 bedroom apartment centrally l...   \n",
       "4  HELLO EVERYONE AND THANKS FOR VISITING BLISS A...   \n",
       "\n",
       "                                         description experiences_offered  \\\n",
       "0  WELCOME TO OUR INTERNATIONAL URBAN COMMUNITY T...                none   \n",
       "1  Urban retreat: enjoy 500 s.f. floor in 1899 br...                none   \n",
       "2  Loft apartment with high ceiling and wood floo...                none   \n",
       "3  My large 1 bedroom apartment has a true New Yo...                none   \n",
       "4  HELLO EVERYONE AND THANKS FOR VISITING BLISS A...                none   \n",
       "\n",
       "                               neighborhood_overview  ... instant_bookable  \\\n",
       "0                                                NaN  ...                f   \n",
       "1  Just the right mix of urban center and local n...  ...                f   \n",
       "2                                                NaN  ...                f   \n",
       "3  My neighborhood in Midtown East is called Murr...  ...                f   \n",
       "4                                                NaN  ...                f   \n",
       "\n",
       "  is_business_travel_ready          cancellation_policy  \\\n",
       "0                        f  strict_14_with_grace_period   \n",
       "1                        f                     moderate   \n",
       "2                        f  strict_14_with_grace_period   \n",
       "3                        f                     moderate   \n",
       "4                        f  strict_14_with_grace_period   \n",
       "\n",
       "  require_guest_profile_picture require_guest_phone_verification  \\\n",
       "0                             t                                t   \n",
       "1                             f                                f   \n",
       "2                             t                                t   \n",
       "3                             t                                t   \n",
       "4                             f                                f   \n",
       "\n",
       "   calculated_host_listings_count  \\\n",
       "0                               1   \n",
       "1                               1   \n",
       "2                               1   \n",
       "3                               1   \n",
       "4                               1   \n",
       "\n",
       "   calculated_host_listings_count_entire_homes  \\\n",
       "0                                            0   \n",
       "1                                            1   \n",
       "2                                            1   \n",
       "3                                            1   \n",
       "4                                            0   \n",
       "\n",
       "  calculated_host_listings_count_private_rooms  \\\n",
       "0                                            1   \n",
       "1                                            0   \n",
       "2                                            0   \n",
       "3                                            0   \n",
       "4                                            1   \n",
       "\n",
       "   calculated_host_listings_count_shared_rooms  reviews_per_month  \n",
       "0                                            0                NaN  \n",
       "1                                            0               4.62  \n",
       "2                                            0               0.10  \n",
       "3                                            0               0.59  \n",
       "4                                            0               0.39  \n",
       "\n",
       "[5 rows x 106 columns]"
      ]
     },
     "execution_count": 3,
     "metadata": {},
     "output_type": "execute_result"
    }
   ],
   "source": [
    "listings.head()"
   ]
  },
  {
   "cell_type": "code",
   "execution_count": 4,
   "metadata": {},
   "outputs": [],
   "source": [
    "#removing columns which has only one value in the column as that column would be not usefull for analysis \n",
    "for col in listings:\n",
    "    if listings[col].value_counts().count() <= 1:\n",
    "        listings = listings.drop(col, axis = 1)"
   ]
  },
  {
   "cell_type": "code",
   "execution_count": 5,
   "metadata": {},
   "outputs": [],
   "source": [
    "#dropping the columns which have 60% of its values missing\n",
    "for col in listings:\n",
    "        percentage = int(listings[col].isna().sum() / listings.shape[0] * 100)\n",
    "        if percentage > 60:\n",
    "            listings = listings.drop(col, axis = 1)"
   ]
  },
  {
   "cell_type": "code",
   "execution_count": 6,
   "metadata": {},
   "outputs": [
    {
     "data": {
      "text/plain": [
       "dtype('O')"
      ]
     },
     "execution_count": 6,
     "metadata": {},
     "output_type": "execute_result"
    }
   ],
   "source": [
    "listings.price.dtype"
   ]
  },
  {
   "cell_type": "code",
   "execution_count": 7,
   "metadata": {},
   "outputs": [],
   "source": [
    "#converting price into float\n",
    "listings['price'] = listings['price'].apply(lambda x: float(str(x).replace('$', '').replace(',', '')))\n",
    "calendar['price'] = calendar['price'].apply(lambda x: float(str(x).replace('$', '').replace(',', '')))"
   ]
  },
  {
   "cell_type": "code",
   "execution_count": 8,
   "metadata": {},
   "outputs": [
    {
     "data": {
      "text/plain": [
       "0    2019-09-13\n",
       "1    2019-09-13\n",
       "2    2019-09-14\n",
       "3    2019-09-15\n",
       "4    2019-09-16\n",
       "Name: date, dtype: object"
      ]
     },
     "execution_count": 8,
     "metadata": {},
     "output_type": "execute_result"
    }
   ],
   "source": [
    "calendar['date'].head()"
   ]
  },
  {
   "cell_type": "code",
   "execution_count": 9,
   "metadata": {},
   "outputs": [
    {
     "data": {
      "text/html": [
       "<div>\n",
       "<style scoped>\n",
       "    .dataframe tbody tr th:only-of-type {\n",
       "        vertical-align: middle;\n",
       "    }\n",
       "\n",
       "    .dataframe tbody tr th {\n",
       "        vertical-align: top;\n",
       "    }\n",
       "\n",
       "    .dataframe thead th {\n",
       "        text-align: right;\n",
       "    }\n",
       "</style>\n",
       "<table border=\"1\" class=\"dataframe\">\n",
       "  <thead>\n",
       "    <tr style=\"text-align: right;\">\n",
       "      <th></th>\n",
       "      <th>listing_id</th>\n",
       "      <th>date</th>\n",
       "      <th>available</th>\n",
       "      <th>price</th>\n",
       "      <th>adjusted_price</th>\n",
       "      <th>minimum_nights</th>\n",
       "      <th>maximum_nights</th>\n",
       "      <th>Year-Month</th>\n",
       "    </tr>\n",
       "  </thead>\n",
       "  <tbody>\n",
       "    <tr>\n",
       "      <td>0</td>\n",
       "      <td>9668</td>\n",
       "      <td>2019-09-13</td>\n",
       "      <td>f</td>\n",
       "      <td>51.0</td>\n",
       "      <td>$51.00</td>\n",
       "      <td>3.0</td>\n",
       "      <td>365.0</td>\n",
       "      <td>2019-09</td>\n",
       "    </tr>\n",
       "    <tr>\n",
       "      <td>1</td>\n",
       "      <td>26969</td>\n",
       "      <td>2019-09-13</td>\n",
       "      <td>f</td>\n",
       "      <td>350.0</td>\n",
       "      <td>$350.00</td>\n",
       "      <td>3.0</td>\n",
       "      <td>33.0</td>\n",
       "      <td>2019-09</td>\n",
       "    </tr>\n",
       "    <tr>\n",
       "      <td>2</td>\n",
       "      <td>26969</td>\n",
       "      <td>2019-09-14</td>\n",
       "      <td>f</td>\n",
       "      <td>350.0</td>\n",
       "      <td>$350.00</td>\n",
       "      <td>3.0</td>\n",
       "      <td>33.0</td>\n",
       "      <td>2019-09</td>\n",
       "    </tr>\n",
       "    <tr>\n",
       "      <td>3</td>\n",
       "      <td>26969</td>\n",
       "      <td>2019-09-15</td>\n",
       "      <td>f</td>\n",
       "      <td>350.0</td>\n",
       "      <td>$350.00</td>\n",
       "      <td>3.0</td>\n",
       "      <td>33.0</td>\n",
       "      <td>2019-09</td>\n",
       "    </tr>\n",
       "    <tr>\n",
       "      <td>4</td>\n",
       "      <td>26969</td>\n",
       "      <td>2019-09-16</td>\n",
       "      <td>f</td>\n",
       "      <td>350.0</td>\n",
       "      <td>$350.00</td>\n",
       "      <td>3.0</td>\n",
       "      <td>33.0</td>\n",
       "      <td>2019-09</td>\n",
       "    </tr>\n",
       "  </tbody>\n",
       "</table>\n",
       "</div>"
      ],
      "text/plain": [
       "   listing_id        date available  price adjusted_price  minimum_nights  \\\n",
       "0        9668  2019-09-13         f   51.0         $51.00             3.0   \n",
       "1       26969  2019-09-13         f  350.0        $350.00             3.0   \n",
       "2       26969  2019-09-14         f  350.0        $350.00             3.0   \n",
       "3       26969  2019-09-15         f  350.0        $350.00             3.0   \n",
       "4       26969  2019-09-16         f  350.0        $350.00             3.0   \n",
       "\n",
       "   maximum_nights Year-Month  \n",
       "0           365.0    2019-09  \n",
       "1            33.0    2019-09  \n",
       "2            33.0    2019-09  \n",
       "3            33.0    2019-09  \n",
       "4            33.0    2019-09  "
      ]
     },
     "execution_count": 9,
     "metadata": {},
     "output_type": "execute_result"
    }
   ],
   "source": [
    "#adding a new column Year-Month to do the monthly analysis of the data\n",
    "calendar['Year-Month'] = calendar['date'].apply(lambda x:(str(x).replace(x, x[0:7])))\n",
    "calendar.head()"
   ]
  },
  {
   "cell_type": "code",
   "execution_count": 10,
   "metadata": {},
   "outputs": [
    {
     "data": {
      "text/plain": [
       "dtype('O')"
      ]
     },
     "execution_count": 10,
     "metadata": {},
     "output_type": "execute_result"
    }
   ],
   "source": [
    "calendar.available.dtype"
   ]
  },
  {
   "cell_type": "code",
   "execution_count": 11,
   "metadata": {},
   "outputs": [
    {
     "data": {
      "text/html": [
       "<div>\n",
       "<style scoped>\n",
       "    .dataframe tbody tr th:only-of-type {\n",
       "        vertical-align: middle;\n",
       "    }\n",
       "\n",
       "    .dataframe tbody tr th {\n",
       "        vertical-align: top;\n",
       "    }\n",
       "\n",
       "    .dataframe thead th {\n",
       "        text-align: right;\n",
       "    }\n",
       "</style>\n",
       "<table border=\"1\" class=\"dataframe\">\n",
       "  <thead>\n",
       "    <tr style=\"text-align: right;\">\n",
       "      <th></th>\n",
       "      <th>listing_id</th>\n",
       "      <th>date</th>\n",
       "      <th>available</th>\n",
       "      <th>price</th>\n",
       "      <th>adjusted_price</th>\n",
       "      <th>minimum_nights</th>\n",
       "      <th>maximum_nights</th>\n",
       "      <th>Year-Month</th>\n",
       "    </tr>\n",
       "  </thead>\n",
       "  <tbody>\n",
       "    <tr>\n",
       "      <td>0</td>\n",
       "      <td>9668</td>\n",
       "      <td>2019-09-13</td>\n",
       "      <td>False</td>\n",
       "      <td>51.0</td>\n",
       "      <td>$51.00</td>\n",
       "      <td>3.0</td>\n",
       "      <td>365.0</td>\n",
       "      <td>2019-09</td>\n",
       "    </tr>\n",
       "    <tr>\n",
       "      <td>1</td>\n",
       "      <td>26969</td>\n",
       "      <td>2019-09-13</td>\n",
       "      <td>False</td>\n",
       "      <td>350.0</td>\n",
       "      <td>$350.00</td>\n",
       "      <td>3.0</td>\n",
       "      <td>33.0</td>\n",
       "      <td>2019-09</td>\n",
       "    </tr>\n",
       "    <tr>\n",
       "      <td>2</td>\n",
       "      <td>26969</td>\n",
       "      <td>2019-09-14</td>\n",
       "      <td>False</td>\n",
       "      <td>350.0</td>\n",
       "      <td>$350.00</td>\n",
       "      <td>3.0</td>\n",
       "      <td>33.0</td>\n",
       "      <td>2019-09</td>\n",
       "    </tr>\n",
       "    <tr>\n",
       "      <td>3</td>\n",
       "      <td>26969</td>\n",
       "      <td>2019-09-15</td>\n",
       "      <td>False</td>\n",
       "      <td>350.0</td>\n",
       "      <td>$350.00</td>\n",
       "      <td>3.0</td>\n",
       "      <td>33.0</td>\n",
       "      <td>2019-09</td>\n",
       "    </tr>\n",
       "    <tr>\n",
       "      <td>4</td>\n",
       "      <td>26969</td>\n",
       "      <td>2019-09-16</td>\n",
       "      <td>False</td>\n",
       "      <td>350.0</td>\n",
       "      <td>$350.00</td>\n",
       "      <td>3.0</td>\n",
       "      <td>33.0</td>\n",
       "      <td>2019-09</td>\n",
       "    </tr>\n",
       "  </tbody>\n",
       "</table>\n",
       "</div>"
      ],
      "text/plain": [
       "   listing_id        date  available  price adjusted_price  minimum_nights  \\\n",
       "0        9668  2019-09-13      False   51.0         $51.00             3.0   \n",
       "1       26969  2019-09-13      False  350.0        $350.00             3.0   \n",
       "2       26969  2019-09-14      False  350.0        $350.00             3.0   \n",
       "3       26969  2019-09-15      False  350.0        $350.00             3.0   \n",
       "4       26969  2019-09-16      False  350.0        $350.00             3.0   \n",
       "\n",
       "   maximum_nights Year-Month  \n",
       "0           365.0    2019-09  \n",
       "1            33.0    2019-09  \n",
       "2            33.0    2019-09  \n",
       "3            33.0    2019-09  \n",
       "4            33.0    2019-09  "
      ]
     },
     "execution_count": 11,
     "metadata": {},
     "output_type": "execute_result"
    }
   ],
   "source": [
    "#converting the column \"available\" into boolean for performing operations\n",
    "calendar.available.replace('f', False, inplace = True)\n",
    "calendar.available.replace('t', True, inplace = True)\n",
    "calendar.head()"
   ]
  },
  {
   "cell_type": "markdown",
   "metadata": {},
   "source": [
    "<h1><b>1)What are the most common type of properties in NewYork available for renting?What are the availabilities of the properties throughout the year?</b></h1>"
   ]
  },
  {
   "cell_type": "code",
   "execution_count": 204,
   "metadata": {},
   "outputs": [
    {
     "data": {
      "text/html": [
       "<div>\n",
       "<style scoped>\n",
       "    .dataframe tbody tr th:only-of-type {\n",
       "        vertical-align: middle;\n",
       "    }\n",
       "\n",
       "    .dataframe tbody tr th {\n",
       "        vertical-align: top;\n",
       "    }\n",
       "\n",
       "    .dataframe thead th {\n",
       "        text-align: right;\n",
       "    }\n",
       "</style>\n",
       "<table border=\"1\" class=\"dataframe\">\n",
       "  <thead>\n",
       "    <tr style=\"text-align: right;\">\n",
       "      <th></th>\n",
       "      <th>property_type</th>\n",
       "      <th>id</th>\n",
       "    </tr>\n",
       "  </thead>\n",
       "  <tbody>\n",
       "    <tr>\n",
       "      <th>1</th>\n",
       "      <td>Apartment</td>\n",
       "      <td>38144</td>\n",
       "    </tr>\n",
       "    <tr>\n",
       "      <th>22</th>\n",
       "      <td>House</td>\n",
       "      <td>3944</td>\n",
       "    </tr>\n",
       "    <tr>\n",
       "      <th>33</th>\n",
       "      <td>Townhouse</td>\n",
       "      <td>1624</td>\n",
       "    </tr>\n",
       "    <tr>\n",
       "      <th>13</th>\n",
       "      <td>Condominium</td>\n",
       "      <td>1512</td>\n",
       "    </tr>\n",
       "    <tr>\n",
       "      <th>25</th>\n",
       "      <td>Loft</td>\n",
       "      <td>1375</td>\n",
       "    </tr>\n",
       "    <tr>\n",
       "      <th>29</th>\n",
       "      <td>Serviced apartment</td>\n",
       "      <td>437</td>\n",
       "    </tr>\n",
       "    <tr>\n",
       "      <th>18</th>\n",
       "      <td>Guest suite</td>\n",
       "      <td>382</td>\n",
       "    </tr>\n",
       "    <tr>\n",
       "      <th>21</th>\n",
       "      <td>Hotel</td>\n",
       "      <td>219</td>\n",
       "    </tr>\n",
       "    <tr>\n",
       "      <th>5</th>\n",
       "      <td>Boutique hotel</td>\n",
       "      <td>214</td>\n",
       "    </tr>\n",
       "  </tbody>\n",
       "</table>\n",
       "</div>"
      ],
      "text/plain": [
       "         property_type     id\n",
       "1            Apartment  38144\n",
       "22               House   3944\n",
       "33           Townhouse   1624\n",
       "13         Condominium   1512\n",
       "25                Loft   1375\n",
       "29  Serviced apartment    437\n",
       "18         Guest suite    382\n",
       "21               Hotel    219\n",
       "5       Boutique hotel    214"
      ]
     },
     "execution_count": 204,
     "metadata": {},
     "output_type": "execute_result"
    }
   ],
   "source": [
    "#grouping the property types according to their frequency\n",
    "common_properties = listings.groupby('property_type').count()['id'].reset_index().sort_values(by='id',ascending=False).head(9)\n",
    "common_properties"
   ]
  },
  {
   "cell_type": "code",
   "execution_count": 206,
   "metadata": {},
   "outputs": [
    {
     "data": {
      "image/png": "[encoded data removed]",
      "text/plain": [
       "<Figure size 1080x576 with 1 Axes>"
      ]
     },
     "metadata": {},
     "output_type": "display_data"
    }
   ],
   "source": [
    "#plotting the data of the table above\n",
    "plt.style.use('ggplot');\n",
    "\n",
    "common_properties.plot(kind='bar', \n",
    "           x='property_type',\n",
    "           y='id',\n",
    "           color = '#66c2ff', \n",
    "           figsize =(15,8), \n",
    "           title = \"NewYork AirBnb most common properties\", \n",
    "           legend = False);\n",
    "plt.xlabel('Property Type');\n",
    "plt.ylabel('Number of Properties');"
   ]
  },
  {
   "cell_type": "code",
   "execution_count": 207,
   "metadata": {},
   "outputs": [
    {
     "data": {
      "text/plain": [
       "36"
      ]
     },
     "execution_count": 207,
     "metadata": {},
     "output_type": "execute_result"
    }
   ],
   "source": [
    "listings.property_type.value_counts().count()"
   ]
  },
  {
   "cell_type": "markdown",
   "metadata": {},
   "source": [
    "It can be concluded that property type also plays an important factor. Not surprisingly, Apartment and houses take up an overwhelming majority of all listings, followed by townhouse and Condominium.There are total 36 types of properties available for renting in NewYork of which the properties displayed in the graph above have the maximum frequency."
   ]
  },
  {
   "cell_type": "code",
   "execution_count": 290,
   "metadata": {},
   "outputs": [
    {
     "data": {
      "text/html": [
       "<div>\n",
       "<style scoped>\n",
       "    .dataframe tbody tr th:only-of-type {\n",
       "        vertical-align: middle;\n",
       "    }\n",
       "\n",
       "    .dataframe tbody tr th {\n",
       "        vertical-align: top;\n",
       "    }\n",
       "\n",
       "    .dataframe thead th {\n",
       "        text-align: right;\n",
       "    }\n",
       "</style>\n",
       "<table border=\"1\" class=\"dataframe\">\n",
       "  <thead>\n",
       "    <tr style=\"text-align: right;\">\n",
       "      <th></th>\n",
       "      <th>Year-Month</th>\n",
       "      <th>available</th>\n",
       "    </tr>\n",
       "  </thead>\n",
       "  <tbody>\n",
       "    <tr>\n",
       "      <td>0</td>\n",
       "      <td>2019-09</td>\n",
       "      <td>0.136140</td>\n",
       "    </tr>\n",
       "    <tr>\n",
       "      <td>1</td>\n",
       "      <td>2019-10</td>\n",
       "      <td>0.251666</td>\n",
       "    </tr>\n",
       "    <tr>\n",
       "      <td>2</td>\n",
       "      <td>2019-11</td>\n",
       "      <td>0.368903</td>\n",
       "    </tr>\n",
       "    <tr>\n",
       "      <td>3</td>\n",
       "      <td>2019-12</td>\n",
       "      <td>0.347781</td>\n",
       "    </tr>\n",
       "    <tr>\n",
       "      <td>4</td>\n",
       "      <td>2020-01</td>\n",
       "      <td>0.385394</td>\n",
       "    </tr>\n",
       "    <tr>\n",
       "      <td>5</td>\n",
       "      <td>2020-02</td>\n",
       "      <td>0.400951</td>\n",
       "    </tr>\n",
       "    <tr>\n",
       "      <td>6</td>\n",
       "      <td>2020-03</td>\n",
       "      <td>0.339227</td>\n",
       "    </tr>\n",
       "    <tr>\n",
       "      <td>7</td>\n",
       "      <td>2020-04</td>\n",
       "      <td>0.301791</td>\n",
       "    </tr>\n",
       "    <tr>\n",
       "      <td>8</td>\n",
       "      <td>2020-05</td>\n",
       "      <td>0.306313</td>\n",
       "    </tr>\n",
       "    <tr>\n",
       "      <td>9</td>\n",
       "      <td>2020-06</td>\n",
       "      <td>0.293220</td>\n",
       "    </tr>\n",
       "    <tr>\n",
       "      <td>10</td>\n",
       "      <td>2020-07</td>\n",
       "      <td>0.290371</td>\n",
       "    </tr>\n",
       "    <tr>\n",
       "      <td>11</td>\n",
       "      <td>2020-08</td>\n",
       "      <td>0.292078</td>\n",
       "    </tr>\n",
       "    <tr>\n",
       "      <td>12</td>\n",
       "      <td>2020-09</td>\n",
       "      <td>0.298905</td>\n",
       "    </tr>\n",
       "  </tbody>\n",
       "</table>\n",
       "</div>"
      ],
      "text/plain": [
       "   Year-Month  available\n",
       "0     2019-09   0.136140\n",
       "1     2019-10   0.251666\n",
       "2     2019-11   0.368903\n",
       "3     2019-12   0.347781\n",
       "4     2020-01   0.385394\n",
       "5     2020-02   0.400951\n",
       "6     2020-03   0.339227\n",
       "7     2020-04   0.301791\n",
       "8     2020-05   0.306313\n",
       "9     2020-06   0.293220\n",
       "10    2020-07   0.290371\n",
       "11    2020-08   0.292078\n",
       "12    2020-09   0.298905"
      ]
     },
     "execution_count": 290,
     "metadata": {},
     "output_type": "execute_result"
    }
   ],
   "source": [
    "#grouping the availibilty of the properties according to the months.\n",
    "property_availability = calendar.groupby('Year-Month').mean()['available'].reset_index()\n",
    "property_availability"
   ]
  },
  {
   "cell_type": "code",
   "execution_count": 291,
   "metadata": {},
   "outputs": [
    {
     "data": {
      "image/png": "[encoded data removed]",
      "text/plain": [
       "<Figure size 1080x576 with 1 Axes>"
      ]
     },
     "metadata": {},
     "output_type": "display_data"
    }
   ],
   "source": [
    "#plotting the data for the above table\n",
    "property_availability.plot(kind='bar', \n",
    "           x='Year-Month',\n",
    "           y='available',\n",
    "           color = '#66c2ff', \n",
    "           figsize =(15,8), \n",
    "           title = \"NewYork AirBnb propotion of homes available\", \n",
    "           legend = False);\n",
    "plt.xlabel('Month');\n",
    "plt.ylabel('Average Home Availability');"
   ]
  },
  {
   "cell_type": "markdown",
   "metadata": {},
   "source": [
    "The highest availability for homes will be in the Febraury 2020 while the lowest availability was observed in the September 2019.You can observe rest of the trends in the availability from the chart above"
   ]
  },
  {
   "cell_type": "code",
   "execution_count": 292,
   "metadata": {},
   "outputs": [
    {
     "data": {
      "image/png": "[encoded data removed]",
      "text/plain": [
       "<Figure size 432x288 with 1 Axes>"
      ]
     },
     "metadata": {},
     "output_type": "display_data"
    }
   ],
   "source": [
    "#Analysing the home availability on each single day of the year\n",
    "homes_perday = calendar.groupby('date').mean()['available'].reset_index()\n",
    "plt.plot(homes_perday['available']);\n",
    "plt.title('Average Home Availability Over Time New York Airbnb');\n",
    "plt.xlabel('Day of the Year');\n",
    "plt.ylabel('Average Home Availability');"
   ]
  },
  {
   "cell_type": "markdown",
   "metadata": {},
   "source": [
    "Above plot shows the detail analysis of the home availability throughout the year.Day 1 is at September-12 2019 and Day 365 is at September-12 2020 in the above graph"
   ]
  },
  {
   "cell_type": "markdown",
   "metadata": {},
   "source": [
    "<b><h1>2)What is the average pricing of the properties available for renting?Are there any seasonal spiking in the prices of the properties?</b></h1>"
   ]
  },
  {
   "cell_type": "code",
   "execution_count": 293,
   "metadata": {},
   "outputs": [
    {
     "data": {
      "image/png": "[encoded data removed]",
      "text/plain": [
       "<Figure size 432x288 with 1 Axes>"
      ]
     },
     "metadata": {},
     "output_type": "display_data"
    }
   ],
   "source": [
    "#plotting frequency of the pricing in the data\n",
    "plt.hist(data = listings , x='price',color = '#66c2ff',  bins=np.arange(0,1500,100));\n",
    "plt.title('New York Airbnb Pricing Frequency');\n",
    "plt.xlabel('Price of homes');\n",
    "plt.ylabel('Frequency');"
   ]
  },
  {
   "cell_type": "markdown",
   "metadata": {},
   "source": [
    "Most of the pricing of the homes falls within $0-200.This is a proper left scewed left distribution where most the pricing are falls in low limits."
   ]
  },
  {
   "cell_type": "code",
   "execution_count": 294,
   "metadata": {},
   "outputs": [
    {
     "data": {
      "text/html": [
       "<div>\n",
       "<style scoped>\n",
       "    .dataframe tbody tr th:only-of-type {\n",
       "        vertical-align: middle;\n",
       "    }\n",
       "\n",
       "    .dataframe tbody tr th {\n",
       "        vertical-align: top;\n",
       "    }\n",
       "\n",
       "    .dataframe thead th {\n",
       "        text-align: right;\n",
       "    }\n",
       "</style>\n",
       "<table border=\"1\" class=\"dataframe\">\n",
       "  <thead>\n",
       "    <tr style=\"text-align: right;\">\n",
       "      <th></th>\n",
       "      <th>Year-Month</th>\n",
       "      <th>price</th>\n",
       "    </tr>\n",
       "  </thead>\n",
       "  <tbody>\n",
       "    <tr>\n",
       "      <td>0</td>\n",
       "      <td>2019-09</td>\n",
       "      <td>154.102058</td>\n",
       "    </tr>\n",
       "    <tr>\n",
       "      <td>1</td>\n",
       "      <td>2019-10</td>\n",
       "      <td>155.066236</td>\n",
       "    </tr>\n",
       "    <tr>\n",
       "      <td>2</td>\n",
       "      <td>2019-11</td>\n",
       "      <td>153.671050</td>\n",
       "    </tr>\n",
       "    <tr>\n",
       "      <td>3</td>\n",
       "      <td>2019-12</td>\n",
       "      <td>162.358932</td>\n",
       "    </tr>\n",
       "    <tr>\n",
       "      <td>4</td>\n",
       "      <td>2020-01</td>\n",
       "      <td>154.179901</td>\n",
       "    </tr>\n",
       "    <tr>\n",
       "      <td>5</td>\n",
       "      <td>2020-02</td>\n",
       "      <td>150.506170</td>\n",
       "    </tr>\n",
       "    <tr>\n",
       "      <td>6</td>\n",
       "      <td>2020-03</td>\n",
       "      <td>153.910309</td>\n",
       "    </tr>\n",
       "    <tr>\n",
       "      <td>7</td>\n",
       "      <td>2020-04</td>\n",
       "      <td>157.030554</td>\n",
       "    </tr>\n",
       "    <tr>\n",
       "      <td>8</td>\n",
       "      <td>2020-05</td>\n",
       "      <td>158.401121</td>\n",
       "    </tr>\n",
       "    <tr>\n",
       "      <td>9</td>\n",
       "      <td>2020-06</td>\n",
       "      <td>157.476664</td>\n",
       "    </tr>\n",
       "    <tr>\n",
       "      <td>10</td>\n",
       "      <td>2020-07</td>\n",
       "      <td>156.743349</td>\n",
       "    </tr>\n",
       "    <tr>\n",
       "      <td>11</td>\n",
       "      <td>2020-08</td>\n",
       "      <td>157.242235</td>\n",
       "    </tr>\n",
       "    <tr>\n",
       "      <td>12</td>\n",
       "      <td>2020-09</td>\n",
       "      <td>159.387789</td>\n",
       "    </tr>\n",
       "  </tbody>\n",
       "</table>\n",
       "</div>"
      ],
      "text/plain": [
       "   Year-Month       price\n",
       "0     2019-09  154.102058\n",
       "1     2019-10  155.066236\n",
       "2     2019-11  153.671050\n",
       "3     2019-12  162.358932\n",
       "4     2020-01  154.179901\n",
       "5     2020-02  150.506170\n",
       "6     2020-03  153.910309\n",
       "7     2020-04  157.030554\n",
       "8     2020-05  158.401121\n",
       "9     2020-06  157.476664\n",
       "10    2020-07  156.743349\n",
       "11    2020-08  157.242235\n",
       "12    2020-09  159.387789"
      ]
     },
     "execution_count": 294,
     "metadata": {},
     "output_type": "execute_result"
    }
   ],
   "source": [
    "#grouping the prices according to the months to analyse seasonal spiking\n",
    "seasonal_prices = calendar.groupby('Year-Month').mean()['price'].reset_index()\n",
    "seasonal_prices"
   ]
  },
  {
   "cell_type": "code",
   "execution_count": 295,
   "metadata": {},
   "outputs": [
    {
     "data": {
      "image/png": "[encoded data removed]",
      "text/plain": [
       "<Figure size 432x288 with 1 Axes>"
      ]
     },
     "metadata": {},
     "output_type": "display_data"
    }
   ],
   "source": [
    "x=seasonal_prices['Year-Month'].tolist()\n",
    "y=seasonal_prices['price'].tolist()\n",
    "plt.plot(x,y,'ro-')\n",
    "plt.ylabel('Average Price')\n",
    "plt.xlabel('Months')\n",
    "plt.title('Average Price of Homes over months')\n",
    "plt.xticks(rotation=90)\n",
    "plt.show();"
   ]
  },
  {
   "cell_type": "markdown",
   "metadata": {},
   "source": [
    "The Home prices will be at peak on December2019 and fall lowest on the february2020.There won't be major fluctuation in the prices form April2020 to August2020"
   ]
  },
  {
   "cell_type": "code",
   "execution_count": 296,
   "metadata": {},
   "outputs": [
    {
     "data": {
      "text/html": [
       "<div>\n",
       "<style scoped>\n",
       "    .dataframe tbody tr th:only-of-type {\n",
       "        vertical-align: middle;\n",
       "    }\n",
       "\n",
       "    .dataframe tbody tr th {\n",
       "        vertical-align: top;\n",
       "    }\n",
       "\n",
       "    .dataframe thead th {\n",
       "        text-align: right;\n",
       "    }\n",
       "</style>\n",
       "<table border=\"1\" class=\"dataframe\">\n",
       "  <thead>\n",
       "    <tr style=\"text-align: right;\">\n",
       "      <th></th>\n",
       "      <th>date</th>\n",
       "      <th>price</th>\n",
       "    </tr>\n",
       "  </thead>\n",
       "  <tbody>\n",
       "    <tr>\n",
       "      <td>0</td>\n",
       "      <td>2019-09-12</td>\n",
       "      <td>127.177474</td>\n",
       "    </tr>\n",
       "    <tr>\n",
       "      <td>1</td>\n",
       "      <td>2019-09-13</td>\n",
       "      <td>155.546779</td>\n",
       "    </tr>\n",
       "    <tr>\n",
       "      <td>2</td>\n",
       "      <td>2019-09-14</td>\n",
       "      <td>156.312463</td>\n",
       "    </tr>\n",
       "    <tr>\n",
       "      <td>3</td>\n",
       "      <td>2019-09-15</td>\n",
       "      <td>151.758935</td>\n",
       "    </tr>\n",
       "    <tr>\n",
       "      <td>4</td>\n",
       "      <td>2019-09-16</td>\n",
       "      <td>152.230171</td>\n",
       "    </tr>\n",
       "    <tr>\n",
       "      <td>...</td>\n",
       "      <td>...</td>\n",
       "      <td>...</td>\n",
       "    </tr>\n",
       "    <tr>\n",
       "      <td>362</td>\n",
       "      <td>2020-09-08</td>\n",
       "      <td>157.293569</td>\n",
       "    </tr>\n",
       "    <tr>\n",
       "      <td>363</td>\n",
       "      <td>2020-09-09</td>\n",
       "      <td>157.951692</td>\n",
       "    </tr>\n",
       "    <tr>\n",
       "      <td>364</td>\n",
       "      <td>2020-09-10</td>\n",
       "      <td>158.118197</td>\n",
       "    </tr>\n",
       "    <tr>\n",
       "      <td>365</td>\n",
       "      <td>2020-09-11</td>\n",
       "      <td>170.466983</td>\n",
       "    </tr>\n",
       "    <tr>\n",
       "      <td>366</td>\n",
       "      <td>2020-09-12</td>\n",
       "      <td>99.000000</td>\n",
       "    </tr>\n",
       "  </tbody>\n",
       "</table>\n",
       "<p>367 rows × 2 columns</p>\n",
       "</div>"
      ],
      "text/plain": [
       "           date       price\n",
       "0    2019-09-12  127.177474\n",
       "1    2019-09-13  155.546779\n",
       "2    2019-09-14  156.312463\n",
       "3    2019-09-15  151.758935\n",
       "4    2019-09-16  152.230171\n",
       "..          ...         ...\n",
       "362  2020-09-08  157.293569\n",
       "363  2020-09-09  157.951692\n",
       "364  2020-09-10  158.118197\n",
       "365  2020-09-11  170.466983\n",
       "366  2020-09-12   99.000000\n",
       "\n",
       "[367 rows x 2 columns]"
      ]
     },
     "execution_count": 296,
     "metadata": {},
     "output_type": "execute_result"
    }
   ],
   "source": [
    "#grouping the prices according to the days to analyse seasonal spiking\n",
    "seasonal_prices_days = calendar.groupby('date').mean()['price'].reset_index()\n",
    "seasonal_prices_days"
   ]
  },
  {
   "cell_type": "code",
   "execution_count": 297,
   "metadata": {},
   "outputs": [
    {
     "data": {
      "image/png": "[encoded data removed]",
      "text/plain": [
       "<Figure size 432x288 with 1 Axes>"
      ]
     },
     "metadata": {},
     "output_type": "display_data"
    }
   ],
   "source": [
    "#Analysing the home prices on each single day of the year\n",
    "plt.plot(seasonal_prices_days['price']);\n",
    "plt.title('Average Home Price Over Time New York Airbnb');\n",
    "plt.xlabel('Day of the Year');\n",
    "plt.ylabel('Average Home Price');"
   ]
  },
  {
   "cell_type": "markdown",
   "metadata": {},
   "source": [
    "Above plot shows the detail analysis of the average home prices throughout the year.Day 1 is at September-12 2019 and Day 365 is at September-12 2020 in the above graph"
   ]
  },
  {
   "cell_type": "markdown",
   "metadata": {},
   "source": [
    "<h1><b>3)What are the most common streets in NewYork for Airbnb properties?what are most costliest streets in NewYork for renting?Does the neighborhood group affect the pricing of the properties?</b></h1> "
   ]
  },
  {
   "cell_type": "code",
   "execution_count": 434,
   "metadata": {},
   "outputs": [
    {
     "data": {
      "text/html": [
       "<div>\n",
       "<style scoped>\n",
       "    .dataframe tbody tr th:only-of-type {\n",
       "        vertical-align: middle;\n",
       "    }\n",
       "\n",
       "    .dataframe tbody tr th {\n",
       "        vertical-align: top;\n",
       "    }\n",
       "\n",
       "    .dataframe thead th {\n",
       "        text-align: right;\n",
       "    }\n",
       "</style>\n",
       "<table border=\"1\" class=\"dataframe\">\n",
       "  <thead>\n",
       "    <tr style=\"text-align: right;\">\n",
       "      <th></th>\n",
       "      <th>street</th>\n",
       "      <th>Number of Properties</th>\n",
       "    </tr>\n",
       "  </thead>\n",
       "  <tbody>\n",
       "    <tr>\n",
       "      <td>190</td>\n",
       "      <td>New York, NY, United States</td>\n",
       "      <td>21451</td>\n",
       "    </tr>\n",
       "    <tr>\n",
       "      <td>59</td>\n",
       "      <td>Brooklyn, NY, United States</td>\n",
       "      <td>18758</td>\n",
       "    </tr>\n",
       "    <tr>\n",
       "      <td>225</td>\n",
       "      <td>Queens, NY, United States</td>\n",
       "      <td>4519</td>\n",
       "    </tr>\n",
       "  </tbody>\n",
       "</table>\n",
       "</div>"
      ],
      "text/plain": [
       "                          street  Number of Properties\n",
       "190  New York, NY, United States                 21451\n",
       "59   Brooklyn, NY, United States                 18758\n",
       "225    Queens, NY, United States                  4519"
      ]
     },
     "execution_count": 434,
     "metadata": {},
     "output_type": "execute_result"
    }
   ],
   "source": [
    "#grouping streets according to their frequency and displaying top3 streets\n",
    "street=listings.groupby(['street']).count()['id'].reset_index().sort_values(by='id',ascending = False).head(3)\n",
    "street.rename(columns={'id':'Number of Properties'})"
   ]
  },
  {
   "cell_type": "markdown",
   "metadata": {},
   "source": [
    "New York Street seems to be the most common place for airbnb properties "
   ]
  },
  {
   "cell_type": "code",
   "execution_count": 417,
   "metadata": {},
   "outputs": [],
   "source": [
    "streets = listings.groupby('street').price.mean().reset_index().sort_values(by='price',ascending = False).head(5)"
   ]
  },
  {
   "cell_type": "code",
   "execution_count": 418,
   "metadata": {},
   "outputs": [
    {
     "data": {
      "image/png": "[encoded data removed]",
      "text/plain": [
       "<Figure size 720x360 with 1 Axes>"
      ]
     },
     "metadata": {
      "needs_background": "light"
     },
     "output_type": "display_data"
    }
   ],
   "source": [
    "#plotting the data for the above table\n",
    "streets.plot(kind='bar', \n",
    "           x='street',\n",
    "           y='price',\n",
    "           color = '#66c2ff', \n",
    "           figsize =(10,5), \n",
    "           title = \"Highest mean pric for Renting across streets\", \n",
    "           legend = False);\n",
    "plt.xlabel('Streets');\n",
    "plt.ylabel('Price(in dollars)');"
   ]
  },
  {
   "cell_type": "markdown",
   "metadata": {},
   "source": [
    "Forest Hills and Chelsea are most expensive Streets to rent in New York with average price ranging form $700 to $1000"
   ]
  },
  {
   "cell_type": "code",
   "execution_count": 420,
   "metadata": {},
   "outputs": [],
   "source": [
    "#grouping neighborhood groups according to their price\n",
    "neighborhood = listings.groupby('neighbourhood_group_cleansed').price.mean().reset_index()"
   ]
  },
  {
   "cell_type": "code",
   "execution_count": 421,
   "metadata": {},
   "outputs": [
    {
     "data": {
      "image/png": "[encoded data removed]",
      "text/plain": [
       "<Figure size 720x360 with 1 Axes>"
      ]
     },
     "metadata": {
      "needs_background": "light"
     },
     "output_type": "display_data"
    }
   ],
   "source": [
    "#plotting the data for the above table\n",
    "neighborhood.plot(kind='bar', \n",
    "           x='neighbourhood_group_cleansed',\n",
    "           y='price',\n",
    "           color = '#66c2ff', \n",
    "           figsize =(10,5), \n",
    "           title = \"Pricing of the property with Neighborhood\", \n",
    "           legend = False);\n",
    "plt.xlabel('Neighborhood');\n",
    "plt.ylabel('Price(in dollars)');"
   ]
  },
  {
   "cell_type": "markdown",
   "metadata": {},
   "source": [
    "From the above plot, it seems that pricing of the properties is afffected by the neighbouring groups.Properties having Manhanttan as the neighboring group has the highest average price listed in Airbnb"
   ]
  },
  {
   "cell_type": "markdown",
   "metadata": {},
   "source": [
    "<h1><b>4)Can we use some of the features in the listing data to predict property prices?What the most important factors affecting the price of the properties?</b></h1>"
   ]
  },
  {
   "cell_type": "markdown",
   "metadata": {},
   "source": [
    "Data cleaning and feature selection for ML model.\n"
   ]
  },
  {
   "cell_type": "code",
   "execution_count": 389,
   "metadata": {},
   "outputs": [],
   "source": [
    "#selecting features for model\n",
    "df = listings[['latitude','longitude','minimum_nights','number_of_reviews','reviews_per_month',\n",
    "              'calculated_host_listings_count','availability_365','property_type',\n",
    "             'room_type','neighbourhood_group_cleansed','host_is_superhost','host_listings_count',\n",
    "             'host_has_profile_pic','host_identity_verified','is_location_exact','accommodates',\n",
    "              'bedrooms','guests_included','require_guest_phone_verification','require_guest_profile_picture',\n",
    "              'review_scores_value','cancellation_policy','price']]"
   ]
  },
  {
   "cell_type": "code",
   "execution_count": 390,
   "metadata": {},
   "outputs": [
    {
     "data": {
      "text/html": [
       "<div>\n",
       "<style scoped>\n",
       "    .dataframe tbody tr th:only-of-type {\n",
       "        vertical-align: middle;\n",
       "    }\n",
       "\n",
       "    .dataframe tbody tr th {\n",
       "        vertical-align: top;\n",
       "    }\n",
       "\n",
       "    .dataframe thead th {\n",
       "        text-align: right;\n",
       "    }\n",
       "</style>\n",
       "<table border=\"1\" class=\"dataframe\">\n",
       "  <thead>\n",
       "    <tr style=\"text-align: right;\">\n",
       "      <th></th>\n",
       "      <th>latitude</th>\n",
       "      <th>longitude</th>\n",
       "      <th>minimum_nights</th>\n",
       "      <th>number_of_reviews</th>\n",
       "      <th>reviews_per_month</th>\n",
       "      <th>calculated_host_listings_count</th>\n",
       "      <th>availability_365</th>\n",
       "      <th>property_type</th>\n",
       "      <th>room_type</th>\n",
       "      <th>neighbourhood_group_cleansed</th>\n",
       "      <th>...</th>\n",
       "      <th>host_identity_verified</th>\n",
       "      <th>is_location_exact</th>\n",
       "      <th>accommodates</th>\n",
       "      <th>bedrooms</th>\n",
       "      <th>guests_included</th>\n",
       "      <th>require_guest_phone_verification</th>\n",
       "      <th>require_guest_profile_picture</th>\n",
       "      <th>review_scores_value</th>\n",
       "      <th>cancellation_policy</th>\n",
       "      <th>price</th>\n",
       "    </tr>\n",
       "  </thead>\n",
       "  <tbody>\n",
       "    <tr>\n",
       "      <td>0</td>\n",
       "      <td>40.80902</td>\n",
       "      <td>-73.94190</td>\n",
       "      <td>3</td>\n",
       "      <td>0</td>\n",
       "      <td>NaN</td>\n",
       "      <td>1</td>\n",
       "      <td>365</td>\n",
       "      <td>Apartment</td>\n",
       "      <td>Private room</td>\n",
       "      <td>Manhattan</td>\n",
       "      <td>...</td>\n",
       "      <td>t</td>\n",
       "      <td>t</td>\n",
       "      <td>2</td>\n",
       "      <td>1.0</td>\n",
       "      <td>2</td>\n",
       "      <td>t</td>\n",
       "      <td>t</td>\n",
       "      <td>NaN</td>\n",
       "      <td>strict_14_with_grace_period</td>\n",
       "      <td>150.0</td>\n",
       "    </tr>\n",
       "    <tr>\n",
       "      <td>1</td>\n",
       "      <td>40.68514</td>\n",
       "      <td>-73.95976</td>\n",
       "      <td>1</td>\n",
       "      <td>279</td>\n",
       "      <td>4.62</td>\n",
       "      <td>1</td>\n",
       "      <td>192</td>\n",
       "      <td>Guest suite</td>\n",
       "      <td>Entire home/apt</td>\n",
       "      <td>Brooklyn</td>\n",
       "      <td>...</td>\n",
       "      <td>t</td>\n",
       "      <td>t</td>\n",
       "      <td>3</td>\n",
       "      <td>1.0</td>\n",
       "      <td>1</td>\n",
       "      <td>f</td>\n",
       "      <td>f</td>\n",
       "      <td>9.0</td>\n",
       "      <td>moderate</td>\n",
       "      <td>89.0</td>\n",
       "    </tr>\n",
       "    <tr>\n",
       "      <td>2</td>\n",
       "      <td>40.79851</td>\n",
       "      <td>-73.94399</td>\n",
       "      <td>10</td>\n",
       "      <td>9</td>\n",
       "      <td>0.10</td>\n",
       "      <td>1</td>\n",
       "      <td>0</td>\n",
       "      <td>Apartment</td>\n",
       "      <td>Entire home/apt</td>\n",
       "      <td>Manhattan</td>\n",
       "      <td>...</td>\n",
       "      <td>t</td>\n",
       "      <td>t</td>\n",
       "      <td>1</td>\n",
       "      <td>NaN</td>\n",
       "      <td>1</td>\n",
       "      <td>t</td>\n",
       "      <td>t</td>\n",
       "      <td>10.0</td>\n",
       "      <td>strict_14_with_grace_period</td>\n",
       "      <td>80.0</td>\n",
       "    </tr>\n",
       "    <tr>\n",
       "      <td>3</td>\n",
       "      <td>40.74767</td>\n",
       "      <td>-73.97500</td>\n",
       "      <td>3</td>\n",
       "      <td>75</td>\n",
       "      <td>0.59</td>\n",
       "      <td>1</td>\n",
       "      <td>13</td>\n",
       "      <td>Apartment</td>\n",
       "      <td>Entire home/apt</td>\n",
       "      <td>Manhattan</td>\n",
       "      <td>...</td>\n",
       "      <td>f</td>\n",
       "      <td>f</td>\n",
       "      <td>2</td>\n",
       "      <td>1.0</td>\n",
       "      <td>2</td>\n",
       "      <td>t</td>\n",
       "      <td>t</td>\n",
       "      <td>9.0</td>\n",
       "      <td>moderate</td>\n",
       "      <td>200.0</td>\n",
       "    </tr>\n",
       "    <tr>\n",
       "      <td>4</td>\n",
       "      <td>40.68688</td>\n",
       "      <td>-73.95596</td>\n",
       "      <td>45</td>\n",
       "      <td>49</td>\n",
       "      <td>0.39</td>\n",
       "      <td>1</td>\n",
       "      <td>0</td>\n",
       "      <td>Apartment</td>\n",
       "      <td>Private room</td>\n",
       "      <td>Brooklyn</td>\n",
       "      <td>...</td>\n",
       "      <td>f</td>\n",
       "      <td>f</td>\n",
       "      <td>2</td>\n",
       "      <td>1.0</td>\n",
       "      <td>1</td>\n",
       "      <td>f</td>\n",
       "      <td>f</td>\n",
       "      <td>9.0</td>\n",
       "      <td>strict_14_with_grace_period</td>\n",
       "      <td>60.0</td>\n",
       "    </tr>\n",
       "  </tbody>\n",
       "</table>\n",
       "<p>5 rows × 23 columns</p>\n",
       "</div>"
      ],
      "text/plain": [
       "   latitude  longitude  minimum_nights  number_of_reviews  reviews_per_month  \\\n",
       "0  40.80902  -73.94190               3                  0                NaN   \n",
       "1  40.68514  -73.95976               1                279               4.62   \n",
       "2  40.79851  -73.94399              10                  9               0.10   \n",
       "3  40.74767  -73.97500               3                 75               0.59   \n",
       "4  40.68688  -73.95596              45                 49               0.39   \n",
       "\n",
       "   calculated_host_listings_count  availability_365 property_type  \\\n",
       "0                               1               365     Apartment   \n",
       "1                               1               192   Guest suite   \n",
       "2                               1                 0     Apartment   \n",
       "3                               1                13     Apartment   \n",
       "4                               1                 0     Apartment   \n",
       "\n",
       "         room_type neighbourhood_group_cleansed  ... host_identity_verified  \\\n",
       "0     Private room                    Manhattan  ...                      t   \n",
       "1  Entire home/apt                     Brooklyn  ...                      t   \n",
       "2  Entire home/apt                    Manhattan  ...                      t   \n",
       "3  Entire home/apt                    Manhattan  ...                      f   \n",
       "4     Private room                     Brooklyn  ...                      f   \n",
       "\n",
       "   is_location_exact accommodates bedrooms guests_included  \\\n",
       "0                  t            2      1.0               2   \n",
       "1                  t            3      1.0               1   \n",
       "2                  t            1      NaN               1   \n",
       "3                  f            2      1.0               2   \n",
       "4                  f            2      1.0               1   \n",
       "\n",
       "   require_guest_phone_verification  require_guest_profile_picture  \\\n",
       "0                                 t                              t   \n",
       "1                                 f                              f   \n",
       "2                                 t                              t   \n",
       "3                                 t                              t   \n",
       "4                                 f                              f   \n",
       "\n",
       "   review_scores_value          cancellation_policy  price  \n",
       "0                  NaN  strict_14_with_grace_period  150.0  \n",
       "1                  9.0                     moderate   89.0  \n",
       "2                 10.0  strict_14_with_grace_period   80.0  \n",
       "3                  9.0                     moderate  200.0  \n",
       "4                  9.0  strict_14_with_grace_period   60.0  \n",
       "\n",
       "[5 rows x 23 columns]"
      ]
     },
     "execution_count": 390,
     "metadata": {},
     "output_type": "execute_result"
    }
   ],
   "source": [
    "df.head()"
   ]
  },
  {
   "cell_type": "code",
   "execution_count": 391,
   "metadata": {},
   "outputs": [
    {
     "data": {
      "text/plain": [
       "latitude                                0\n",
       "longitude                               0\n",
       "minimum_nights                          0\n",
       "number_of_reviews                       0\n",
       "reviews_per_month                    9651\n",
       "calculated_host_listings_count          0\n",
       "availability_365                        0\n",
       "property_type                           0\n",
       "room_type                               0\n",
       "neighbourhood_group_cleansed            0\n",
       "host_is_superhost                      21\n",
       "host_listings_count                    21\n",
       "host_has_profile_pic                   21\n",
       "host_identity_verified                 21\n",
       "is_location_exact                       0\n",
       "accommodates                            0\n",
       "bedrooms                               41\n",
       "guests_included                         0\n",
       "require_guest_phone_verification        0\n",
       "require_guest_profile_picture           0\n",
       "review_scores_value                 10618\n",
       "cancellation_policy                     0\n",
       "price                                   0\n",
       "dtype: int64"
      ]
     },
     "execution_count": 391,
     "metadata": {},
     "output_type": "execute_result"
    }
   ],
   "source": [
    "df.isna().sum()"
   ]
  },
  {
   "cell_type": "code",
   "execution_count": 392,
   "metadata": {},
   "outputs": [
    {
     "name": "stderr",
     "output_type": "stream",
     "text": [
      "C:\\Users\\DELL\\Anaconda3\\lib\\site-packages\\ipykernel_launcher.py:3: SettingWithCopyWarning: \n",
      "A value is trying to be set on a copy of a slice from a DataFrame.\n",
      "Try using .loc[row_indexer,col_indexer] = value instead\n",
      "\n",
      "See the caveats in the documentation: http://pandas.pydata.org/pandas-docs/stable/user_guide/indexing.html#returning-a-view-versus-a-copy\n",
      "  This is separate from the ipykernel package so we can avoid doing imports until\n",
      "C:\\Users\\DELL\\Anaconda3\\lib\\site-packages\\ipykernel_launcher.py:4: SettingWithCopyWarning: \n",
      "A value is trying to be set on a copy of a slice from a DataFrame.\n",
      "Try using .loc[row_indexer,col_indexer] = value instead\n",
      "\n",
      "See the caveats in the documentation: http://pandas.pydata.org/pandas-docs/stable/user_guide/indexing.html#returning-a-view-versus-a-copy\n",
      "  after removing the cwd from sys.path.\n",
      "C:\\Users\\DELL\\Anaconda3\\lib\\site-packages\\ipykernel_launcher.py:5: SettingWithCopyWarning: \n",
      "A value is trying to be set on a copy of a slice from a DataFrame.\n",
      "Try using .loc[row_indexer,col_indexer] = value instead\n",
      "\n",
      "See the caveats in the documentation: http://pandas.pydata.org/pandas-docs/stable/user_guide/indexing.html#returning-a-view-versus-a-copy\n",
      "  \"\"\"\n",
      "C:\\Users\\DELL\\Anaconda3\\lib\\site-packages\\ipykernel_launcher.py:6: SettingWithCopyWarning: \n",
      "A value is trying to be set on a copy of a slice from a DataFrame.\n",
      "Try using .loc[row_indexer,col_indexer] = value instead\n",
      "\n",
      "See the caveats in the documentation: http://pandas.pydata.org/pandas-docs/stable/user_guide/indexing.html#returning-a-view-versus-a-copy\n",
      "  \n",
      "C:\\Users\\DELL\\Anaconda3\\lib\\site-packages\\ipykernel_launcher.py:7: SettingWithCopyWarning: \n",
      "A value is trying to be set on a copy of a slice from a DataFrame.\n",
      "Try using .loc[row_indexer,col_indexer] = value instead\n",
      "\n",
      "See the caveats in the documentation: http://pandas.pydata.org/pandas-docs/stable/user_guide/indexing.html#returning-a-view-versus-a-copy\n",
      "  import sys\n",
      "C:\\Users\\DELL\\Anaconda3\\lib\\site-packages\\ipykernel_launcher.py:8: SettingWithCopyWarning: \n",
      "A value is trying to be set on a copy of a slice from a DataFrame.\n",
      "Try using .loc[row_indexer,col_indexer] = value instead\n",
      "\n",
      "See the caveats in the documentation: http://pandas.pydata.org/pandas-docs/stable/user_guide/indexing.html#returning-a-view-versus-a-copy\n",
      "  \n",
      "C:\\Users\\DELL\\Anaconda3\\lib\\site-packages\\ipykernel_launcher.py:9: SettingWithCopyWarning: \n",
      "A value is trying to be set on a copy of a slice from a DataFrame.\n",
      "Try using .loc[row_indexer,col_indexer] = value instead\n",
      "\n",
      "See the caveats in the documentation: http://pandas.pydata.org/pandas-docs/stable/user_guide/indexing.html#returning-a-view-versus-a-copy\n",
      "  if __name__ == '__main__':\n"
     ]
    }
   ],
   "source": [
    "#filling missing values in the column by mean and median of that column\n",
    "#df['neighbourhood'] = df['neighbourhood'].fillna(df['neighbourhood'].mode()[0] )\n",
    "df['reviews_per_month'] = df['reviews_per_month'].fillna(df['reviews_per_month'].mean())\n",
    "df['host_is_superhost'] = df['host_is_superhost'].fillna(df['host_is_superhost'].mode()[0] )\n",
    "df['review_scores_value'] = df['review_scores_value'].fillna(df['review_scores_value'].mean() )\n",
    "df['host_listings_count'] = df['host_listings_count'].fillna(df['host_listings_count'].mean())\n",
    "df['bedrooms'] = df['bedrooms'].fillna(df['bedrooms'].mode()[0] )\n",
    "df['host_has_profile_pic'] = df['host_has_profile_pic'].fillna(df['host_has_profile_pic'].mode()[0] )\n",
    "df['host_identity_verified'] = df['host_identity_verified'].fillna(df['host_identity_verified'].mode()[0])"
   ]
  },
  {
   "cell_type": "code",
   "execution_count": 393,
   "metadata": {},
   "outputs": [
    {
     "name": "stderr",
     "output_type": "stream",
     "text": [
      "C:\\Users\\DELL\\Anaconda3\\lib\\site-packages\\pandas\\core\\generic.py:6786: SettingWithCopyWarning: \n",
      "A value is trying to be set on a copy of a slice from a DataFrame\n",
      "\n",
      "See the caveats in the documentation: http://pandas.pydata.org/pandas-docs/stable/user_guide/indexing.html#returning-a-view-versus-a-copy\n",
      "  self._update_inplace(new_data)\n"
     ]
    }
   ],
   "source": [
    "#converting the true and false columns into 0 and 1.\n",
    "df.is_location_exact.replace('f', 0, inplace = True)\n",
    "df.is_location_exact.replace('t', 1, inplace = True)\n",
    "df.require_guest_profile_picture.replace('f', 0, inplace = True)\n",
    "df.require_guest_profile_picture.replace('t', 1, inplace = True)\n",
    "df.require_guest_phone_verification.replace('f', 0, inplace = True)\n",
    "df.require_guest_phone_verification.replace('t', 1, inplace = True)\n",
    "df.host_identity_verified.replace('f', 0, inplace = True)\n",
    "df.host_identity_verified.replace('t', 1, inplace = True)\n",
    "df.host_has_profile_pic.replace('f', 0, inplace = True)\n",
    "df.host_has_profile_pic.replace('t', 1, inplace = True)\n",
    "df.host_is_superhost.replace('f', 0, inplace = True)\n",
    "df.host_is_superhost.replace('t', 1, inplace = True)"
   ]
  },
  {
   "cell_type": "code",
   "execution_count": 394,
   "metadata": {},
   "outputs": [
    {
     "name": "stdout",
     "output_type": "stream",
     "text": [
      "<class 'pandas.core.frame.DataFrame'>\n",
      "RangeIndex: 48377 entries, 0 to 48376\n",
      "Data columns (total 23 columns):\n",
      "latitude                            48377 non-null float64\n",
      "longitude                           48377 non-null float64\n",
      "minimum_nights                      48377 non-null int64\n",
      "number_of_reviews                   48377 non-null int64\n",
      "reviews_per_month                   48377 non-null float64\n",
      "calculated_host_listings_count      48377 non-null int64\n",
      "availability_365                    48377 non-null int64\n",
      "property_type                       48377 non-null object\n",
      "room_type                           48377 non-null object\n",
      "neighbourhood_group_cleansed        48377 non-null object\n",
      "host_is_superhost                   48377 non-null int64\n",
      "host_listings_count                 48377 non-null float64\n",
      "host_has_profile_pic                48377 non-null int64\n",
      "host_identity_verified              48377 non-null int64\n",
      "is_location_exact                   48377 non-null int64\n",
      "accommodates                        48377 non-null int64\n",
      "bedrooms                            48377 non-null float64\n",
      "guests_included                     48377 non-null int64\n",
      "require_guest_phone_verification    48377 non-null int64\n",
      "require_guest_profile_picture       48377 non-null int64\n",
      "review_scores_value                 48377 non-null float64\n",
      "cancellation_policy                 48377 non-null object\n",
      "price                               48377 non-null float64\n",
      "dtypes: float64(7), int64(12), object(4)\n",
      "memory usage: 8.5+ MB\n"
     ]
    }
   ],
   "source": [
    "df.info()"
   ]
  },
  {
   "cell_type": "code",
   "execution_count": 395,
   "metadata": {},
   "outputs": [
    {
     "name": "stderr",
     "output_type": "stream",
     "text": [
      "C:\\Users\\DELL\\Anaconda3\\lib\\site-packages\\ipykernel_launcher.py:3: SettingWithCopyWarning: \n",
      "A value is trying to be set on a copy of a slice from a DataFrame.\n",
      "Try using .loc[row_indexer,col_indexer] = value instead\n",
      "\n",
      "See the caveats in the documentation: http://pandas.pydata.org/pandas-docs/stable/user_guide/indexing.html#returning-a-view-versus-a-copy\n",
      "  This is separate from the ipykernel package so we can avoid doing imports until\n",
      "C:\\Users\\DELL\\Anaconda3\\lib\\site-packages\\ipykernel_launcher.py:4: SettingWithCopyWarning: \n",
      "A value is trying to be set on a copy of a slice from a DataFrame.\n",
      "Try using .loc[row_indexer,col_indexer] = value instead\n",
      "\n",
      "See the caveats in the documentation: http://pandas.pydata.org/pandas-docs/stable/user_guide/indexing.html#returning-a-view-versus-a-copy\n",
      "  after removing the cwd from sys.path.\n",
      "C:\\Users\\DELL\\Anaconda3\\lib\\site-packages\\ipykernel_launcher.py:5: SettingWithCopyWarning: \n",
      "A value is trying to be set on a copy of a slice from a DataFrame.\n",
      "Try using .loc[row_indexer,col_indexer] = value instead\n",
      "\n",
      "See the caveats in the documentation: http://pandas.pydata.org/pandas-docs/stable/user_guide/indexing.html#returning-a-view-versus-a-copy\n",
      "  \"\"\"\n",
      "C:\\Users\\DELL\\Anaconda3\\lib\\site-packages\\ipykernel_launcher.py:6: SettingWithCopyWarning: \n",
      "A value is trying to be set on a copy of a slice from a DataFrame.\n",
      "Try using .loc[row_indexer,col_indexer] = value instead\n",
      "\n",
      "See the caveats in the documentation: http://pandas.pydata.org/pandas-docs/stable/user_guide/indexing.html#returning-a-view-versus-a-copy\n",
      "  \n"
     ]
    }
   ],
   "source": [
    "#Encoding catergorical variables into numbers\n",
    "le = preprocessing.LabelEncoder()\n",
    "df['property_type'] = le.fit_transform(df['property_type'])\n",
    "df['room_type'] = le.fit_transform(df['room_type'])\n",
    "df['neighbourhood_group_cleansed'] = le.fit_transform(df['neighbourhood_group_cleansed'])\n",
    "df['cancellation_policy'] = le.fit_transform(df['cancellation_policy'])"
   ]
  },
  {
   "cell_type": "code",
   "execution_count": 396,
   "metadata": {},
   "outputs": [
    {
     "data": {
      "text/html": [
       "<div>\n",
       "<style scoped>\n",
       "    .dataframe tbody tr th:only-of-type {\n",
       "        vertical-align: middle;\n",
       "    }\n",
       "\n",
       "    .dataframe tbody tr th {\n",
       "        vertical-align: top;\n",
       "    }\n",
       "\n",
       "    .dataframe thead th {\n",
       "        text-align: right;\n",
       "    }\n",
       "</style>\n",
       "<table border=\"1\" class=\"dataframe\">\n",
       "  <thead>\n",
       "    <tr style=\"text-align: right;\">\n",
       "      <th></th>\n",
       "      <th>latitude</th>\n",
       "      <th>longitude</th>\n",
       "      <th>minimum_nights</th>\n",
       "      <th>number_of_reviews</th>\n",
       "      <th>reviews_per_month</th>\n",
       "      <th>calculated_host_listings_count</th>\n",
       "      <th>availability_365</th>\n",
       "      <th>property_type</th>\n",
       "      <th>room_type</th>\n",
       "      <th>neighbourhood_group_cleansed</th>\n",
       "      <th>...</th>\n",
       "      <th>host_identity_verified</th>\n",
       "      <th>is_location_exact</th>\n",
       "      <th>accommodates</th>\n",
       "      <th>bedrooms</th>\n",
       "      <th>guests_included</th>\n",
       "      <th>require_guest_phone_verification</th>\n",
       "      <th>require_guest_profile_picture</th>\n",
       "      <th>review_scores_value</th>\n",
       "      <th>cancellation_policy</th>\n",
       "      <th>price</th>\n",
       "    </tr>\n",
       "  </thead>\n",
       "  <tbody>\n",
       "    <tr>\n",
       "      <td>0</td>\n",
       "      <td>40.80902</td>\n",
       "      <td>-73.94190</td>\n",
       "      <td>3</td>\n",
       "      <td>0</td>\n",
       "      <td>1.385109</td>\n",
       "      <td>1</td>\n",
       "      <td>365</td>\n",
       "      <td>1</td>\n",
       "      <td>2</td>\n",
       "      <td>2</td>\n",
       "      <td>...</td>\n",
       "      <td>1</td>\n",
       "      <td>1</td>\n",
       "      <td>2</td>\n",
       "      <td>1.0</td>\n",
       "      <td>2</td>\n",
       "      <td>1</td>\n",
       "      <td>1</td>\n",
       "      <td>9.392701</td>\n",
       "      <td>3</td>\n",
       "      <td>150.0</td>\n",
       "    </tr>\n",
       "    <tr>\n",
       "      <td>1</td>\n",
       "      <td>40.68514</td>\n",
       "      <td>-73.95976</td>\n",
       "      <td>1</td>\n",
       "      <td>279</td>\n",
       "      <td>4.620000</td>\n",
       "      <td>1</td>\n",
       "      <td>192</td>\n",
       "      <td>18</td>\n",
       "      <td>0</td>\n",
       "      <td>1</td>\n",
       "      <td>...</td>\n",
       "      <td>1</td>\n",
       "      <td>1</td>\n",
       "      <td>3</td>\n",
       "      <td>1.0</td>\n",
       "      <td>1</td>\n",
       "      <td>0</td>\n",
       "      <td>0</td>\n",
       "      <td>9.000000</td>\n",
       "      <td>1</td>\n",
       "      <td>89.0</td>\n",
       "    </tr>\n",
       "    <tr>\n",
       "      <td>2</td>\n",
       "      <td>40.79851</td>\n",
       "      <td>-73.94399</td>\n",
       "      <td>10</td>\n",
       "      <td>9</td>\n",
       "      <td>0.100000</td>\n",
       "      <td>1</td>\n",
       "      <td>0</td>\n",
       "      <td>1</td>\n",
       "      <td>0</td>\n",
       "      <td>2</td>\n",
       "      <td>...</td>\n",
       "      <td>1</td>\n",
       "      <td>1</td>\n",
       "      <td>1</td>\n",
       "      <td>1.0</td>\n",
       "      <td>1</td>\n",
       "      <td>1</td>\n",
       "      <td>1</td>\n",
       "      <td>10.000000</td>\n",
       "      <td>3</td>\n",
       "      <td>80.0</td>\n",
       "    </tr>\n",
       "    <tr>\n",
       "      <td>3</td>\n",
       "      <td>40.74767</td>\n",
       "      <td>-73.97500</td>\n",
       "      <td>3</td>\n",
       "      <td>75</td>\n",
       "      <td>0.590000</td>\n",
       "      <td>1</td>\n",
       "      <td>13</td>\n",
       "      <td>1</td>\n",
       "      <td>0</td>\n",
       "      <td>2</td>\n",
       "      <td>...</td>\n",
       "      <td>0</td>\n",
       "      <td>0</td>\n",
       "      <td>2</td>\n",
       "      <td>1.0</td>\n",
       "      <td>2</td>\n",
       "      <td>1</td>\n",
       "      <td>1</td>\n",
       "      <td>9.000000</td>\n",
       "      <td>1</td>\n",
       "      <td>200.0</td>\n",
       "    </tr>\n",
       "    <tr>\n",
       "      <td>4</td>\n",
       "      <td>40.68688</td>\n",
       "      <td>-73.95596</td>\n",
       "      <td>45</td>\n",
       "      <td>49</td>\n",
       "      <td>0.390000</td>\n",
       "      <td>1</td>\n",
       "      <td>0</td>\n",
       "      <td>1</td>\n",
       "      <td>2</td>\n",
       "      <td>1</td>\n",
       "      <td>...</td>\n",
       "      <td>0</td>\n",
       "      <td>0</td>\n",
       "      <td>2</td>\n",
       "      <td>1.0</td>\n",
       "      <td>1</td>\n",
       "      <td>0</td>\n",
       "      <td>0</td>\n",
       "      <td>9.000000</td>\n",
       "      <td>3</td>\n",
       "      <td>60.0</td>\n",
       "    </tr>\n",
       "  </tbody>\n",
       "</table>\n",
       "<p>5 rows × 23 columns</p>\n",
       "</div>"
      ],
      "text/plain": [
       "   latitude  longitude  minimum_nights  number_of_reviews  reviews_per_month  \\\n",
       "0  40.80902  -73.94190               3                  0           1.385109   \n",
       "1  40.68514  -73.95976               1                279           4.620000   \n",
       "2  40.79851  -73.94399              10                  9           0.100000   \n",
       "3  40.74767  -73.97500               3                 75           0.590000   \n",
       "4  40.68688  -73.95596              45                 49           0.390000   \n",
       "\n",
       "   calculated_host_listings_count  availability_365  property_type  room_type  \\\n",
       "0                               1               365              1          2   \n",
       "1                               1               192             18          0   \n",
       "2                               1                 0              1          0   \n",
       "3                               1                13              1          0   \n",
       "4                               1                 0              1          2   \n",
       "\n",
       "   neighbourhood_group_cleansed  ...  host_identity_verified  \\\n",
       "0                             2  ...                       1   \n",
       "1                             1  ...                       1   \n",
       "2                             2  ...                       1   \n",
       "3                             2  ...                       0   \n",
       "4                             1  ...                       0   \n",
       "\n",
       "   is_location_exact  accommodates  bedrooms  guests_included  \\\n",
       "0                  1             2       1.0                2   \n",
       "1                  1             3       1.0                1   \n",
       "2                  1             1       1.0                1   \n",
       "3                  0             2       1.0                2   \n",
       "4                  0             2       1.0                1   \n",
       "\n",
       "   require_guest_phone_verification  require_guest_profile_picture  \\\n",
       "0                                 1                              1   \n",
       "1                                 0                              0   \n",
       "2                                 1                              1   \n",
       "3                                 1                              1   \n",
       "4                                 0                              0   \n",
       "\n",
       "   review_scores_value  cancellation_policy  price  \n",
       "0             9.392701                    3  150.0  \n",
       "1             9.000000                    1   89.0  \n",
       "2            10.000000                    3   80.0  \n",
       "3             9.000000                    1  200.0  \n",
       "4             9.000000                    3   60.0  \n",
       "\n",
       "[5 rows x 23 columns]"
      ]
     },
     "execution_count": 396,
     "metadata": {},
     "output_type": "execute_result"
    }
   ],
   "source": [
    "df.head()"
   ]
  },
  {
   "cell_type": "code",
   "execution_count": 397,
   "metadata": {},
   "outputs": [
    {
     "data": {
      "text/plain": [
       "count    48377.000000\n",
       "mean       152.659549\n",
       "std        258.284567\n",
       "min          0.000000\n",
       "25%         69.000000\n",
       "50%        105.000000\n",
       "75%        175.000000\n",
       "max      10000.000000\n",
       "Name: price, dtype: float64"
      ]
     },
     "execution_count": 397,
     "metadata": {},
     "output_type": "execute_result"
    }
   ],
   "source": [
    "df.price.describe()"
   ]
  },
  {
   "cell_type": "code",
   "execution_count": 398,
   "metadata": {},
   "outputs": [
    {
     "data": {
      "image/png": "[encoded data removed]",
      "text/plain": [
       "<Figure size 432x288 with 1 Axes>"
      ]
     },
     "metadata": {
      "needs_background": "light"
     },
     "output_type": "display_data"
    }
   ],
   "source": [
    "#exploring outliers in the price\n",
    "outliers_explore = listings.groupby('price').id.count().reset_index()\n",
    "plt.scatter(y='id', x='price', data = outliers_explore);\n",
    "plt.show();"
   ]
  },
  {
   "cell_type": "code",
   "execution_count": 399,
   "metadata": {},
   "outputs": [
    {
     "data": {
      "text/plain": [
       "latitude                            732\n",
       "longitude                           732\n",
       "minimum_nights                      732\n",
       "number_of_reviews                   732\n",
       "reviews_per_month                   732\n",
       "calculated_host_listings_count      732\n",
       "availability_365                    732\n",
       "property_type                       732\n",
       "room_type                           732\n",
       "neighbourhood_group_cleansed        732\n",
       "host_is_superhost                   732\n",
       "host_listings_count                 732\n",
       "host_has_profile_pic                732\n",
       "host_identity_verified              732\n",
       "is_location_exact                   732\n",
       "accommodates                        732\n",
       "bedrooms                            732\n",
       "guests_included                     732\n",
       "require_guest_phone_verification    732\n",
       "require_guest_profile_picture       732\n",
       "review_scores_value                 732\n",
       "cancellation_policy                 732\n",
       "price                               732\n",
       "dtype: int64"
      ]
     },
     "execution_count": 399,
     "metadata": {},
     "output_type": "execute_result"
    }
   ],
   "source": [
    "df.loc[df['price'] > 600].count()"
   ]
  },
  {
   "cell_type": "code",
   "execution_count": 400,
   "metadata": {},
   "outputs": [],
   "source": [
    "#droping extreme outliers by selecting only prices less than $600\n",
    "df = df.loc[df['price'] <  600]"
   ]
  },
  {
   "cell_type": "code",
   "execution_count": 401,
   "metadata": {},
   "outputs": [],
   "source": [
    "#assigning the input and target \n",
    "X = df.drop('price',axis=1)\n",
    "y = df[['price']]"
   ]
  },
  {
   "cell_type": "code",
   "execution_count": 402,
   "metadata": {},
   "outputs": [],
   "source": [
    "#scaling the data using StandardScaler \n",
    "scaler = preprocessing.StandardScaler().fit(X)\n",
    "X_scaled = scaler.transform(X)"
   ]
  },
  {
   "cell_type": "code",
   "execution_count": 403,
   "metadata": {},
   "outputs": [],
   "source": [
    "#spliting the data into train and test set\n",
    "X_train, X_test, y_train, y_test = train_test_split(X_scaled,y.values ,test_size=0.4, random_state=42)"
   ]
  },
  {
   "cell_type": "code",
   "execution_count": 404,
   "metadata": {},
   "outputs": [],
   "source": [
    "#intiantiateting the model with DecisioDecisionTreeRegressor and AdaBoostRegressor\n",
    "clf = DecisionTreeRegressor() \n",
    "bc =  AdaBoostRegressor(base_estimator = clf, n_estimators=100) "
   ]
  },
  {
   "cell_type": "code",
   "execution_count": 405,
   "metadata": {},
   "outputs": [
    {
     "name": "stderr",
     "output_type": "stream",
     "text": [
      "C:\\Users\\DELL\\Anaconda3\\lib\\site-packages\\sklearn\\utils\\validation.py:724: DataConversionWarning: A column-vector y was passed when a 1d array was expected. Please change the shape of y to (n_samples, ), for example using ravel().\n",
      "  y = column_or_1d(y, warn=True)\n"
     ]
    }
   ],
   "source": [
    "#fitting the data on train set and predicting on test set\n",
    "bc.fit(X_train , y_train)\n",
    "y_pred=bc.predict(X_test)"
   ]
  },
  {
   "cell_type": "code",
   "execution_count": 408,
   "metadata": {},
   "outputs": [
    {
     "data": {
      "text/plain": [
       "20.0"
      ]
     },
     "execution_count": 408,
     "metadata": {},
     "output_type": "execute_result"
    }
   ],
   "source": [
    "median_absolute_error(y_pred,y_test)"
   ]
  },
  {
   "cell_type": "code",
   "execution_count": 409,
   "metadata": {},
   "outputs": [
    {
     "data": {
      "text/plain": [
       "32.92881160029421"
      ]
     },
     "execution_count": 409,
     "metadata": {},
     "output_type": "execute_result"
    }
   ],
   "source": [
    "mean_absolute_error(y_pred,y_test)"
   ]
  },
  {
   "cell_type": "markdown",
   "metadata": {},
   "source": [
    "Median absolute error is considered here because of the outliers present in the data which are affecting the prices."
   ]
  },
  {
   "cell_type": "code",
   "execution_count": 435,
   "metadata": {},
   "outputs": [
    {
     "data": {
      "text/plain": [
       "<matplotlib.axes._subplots.AxesSubplot at 0x1a39747a708>"
      ]
     },
     "execution_count": 435,
     "metadata": {},
     "output_type": "execute_result"
    },
    {
     "data": {
      "image/png": "[encoded data removed]",
      "text/plain": [
       "<Figure size 720x432 with 1 Axes>"
      ]
     },
     "metadata": {
      "needs_background": "light"
     },
     "output_type": "display_data"
    }
   ],
   "source": [
    "feat_imp = pd.Series(bc.feature_importances_, index=X.columns).sort_values(ascending=False).head(6)\n",
    "feat_imp.plot(kind='barh', figsize=(10,6),color='green')"
   ]
  },
  {
   "cell_type": "markdown",
   "metadata": {},
   "source": [
    "Longitude and Lattitude turns out to be most important factors affecting the prices followed by room type and accommodates"
   ]
  },
  {
   "cell_type": "code",
   "execution_count": 414,
   "metadata": {},
   "outputs": [
    {
     "data": {
      "image/png": "[encoded data removed]",
      "text/plain": [
       "<Figure size 720x504 with 2 Axes>"
      ]
     },
     "metadata": {
      "needs_background": "light"
     },
     "output_type": "display_data"
    }
   ],
   "source": [
    "#plotting the price distribution across the city using longitudes and latitudes\n",
    "listings.plot(kind=\"scatter\", x=\"longitude\", y=\"latitude\", alpha=0.4,\n",
    "    s=listings['bedrooms'], label=\"price\", figsize=(10,7),\n",
    "    c=\"price\", colorbar=True,cmap=plt.get_cmap(\"jet\"),\n",
    "    sharex=False);\n",
    "plt.legend();"
   ]
  },
  {
   "cell_type": "markdown",
   "metadata": {},
   "source": [
    "Here is the little insight into prices across NewYork"
   ]
  },
  {
   "cell_type": "code",
   "execution_count": null,
   "metadata": {},
   "outputs": [],
   "source": []
  },
  {
   "cell_type": "code",
   "execution_count": null,
   "metadata": {},
   "outputs": [],
   "source": []
  },
  {
   "cell_type": "code",
   "execution_count": null,
   "metadata": {},
   "outputs": [],
   "source": []
  }
 ],
 "metadata": {
  "kernelspec": {
   "display_name": "Python 3",
   "language": "python",
   "name": "python3"
  },
  "language_info": {
   "codemirror_mode": {
    "name": "ipython",
    "version": 3
   },
   "file_extension": ".py",
   "mimetype": "text/x-python",
   "name": "python",
   "nbconvert_exporter": "python",
   "pygments_lexer": "ipython3",
   "version": "3.7.4"
  }
 },
 "nbformat": 4,
 "nbformat_minor": 2
}
